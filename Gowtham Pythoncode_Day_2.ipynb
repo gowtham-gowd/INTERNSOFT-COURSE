{
  "cells": [
    {
      "cell_type": "markdown",
      "metadata": {
        "id": "Wi0xWQ2K-nzv"
      },
      "source": [
        "# Session 2 - Strings and list objects"
      ]
    },
    {
      "cell_type": "markdown",
      "metadata": {
        "id": "14Mgyi5z-nzz"
      },
      "source": [
        "# Strings"
      ]
    },
    {
      "cell_type": "markdown",
      "metadata": {
        "id": "rukwuvjr-nz0"
      },
      "source": [
        "Strings are used to record the text information such as name. In Python, Strings act as “Sequence” which means Python tracks every element in the String as a sequence. This is one of the important features of the Python language.\n",
        "\n",
        "For example, Python understands the string \"hello' to be a sequence of letters in a specific order which means the indexing technique to grab particular letters (like first letter or the last letter)."
      ]
    },
    {
      "cell_type": "markdown",
      "metadata": {
        "id": "1sHvtya1-nz0"
      },
      "source": [
        "## Creating a String\n",
        "In Python, either single quote (‘) or double quotes (“) must be used while creating a string.\n",
        "\n",
        "    For example:"
      ]
    },
    {
      "cell_type": "code",
      "execution_count": null,
      "metadata": {
        "id": "CfUlpZyp-nz1",
        "outputId": "eb434e4e-bb2f-4645-e067-08ba7acaee68",
        "colab": {
          "base_uri": "https://localhost:8080/",
          "height": 38
        }
      },
      "outputs": [
        {
          "output_type": "execute_result",
          "data": {
            "application/vnd.google.colaboratory.intrinsic+json": {
              "type": "string"
            },
            "text/plain": [
              "'Hello'"
            ]
          },
          "metadata": {},
          "execution_count": 2
        }
      ],
      "source": [
        "# Single word\n",
        "'Hello'\n"
      ]
    },
    {
      "cell_type": "code",
      "execution_count": null,
      "metadata": {
        "id": "ZDQ0nvMa-nz2",
        "outputId": "538e3fb2-768d-435e-967a-8a0fddba5ba9",
        "colab": {
          "base_uri": "https://localhost:8080/",
          "height": 38
        }
      },
      "outputs": [
        {
          "output_type": "execute_result",
          "data": {
            "application/vnd.google.colaboratory.intrinsic+json": {
              "type": "string"
            },
            "text/plain": [
              "'I am sreehitha'"
            ]
          },
          "metadata": {},
          "execution_count": 3
        }
      ],
      "source": [
        "# Entire phrase \n",
        "'I am sreehitha'"
      ]
    },
    {
      "cell_type": "code",
      "execution_count": null,
      "metadata": {
        "id": "ag-zRmbU-nz3",
        "outputId": "52229bad-3253-45e8-e561-03531c103cdc",
        "colab": {
          "base_uri": "https://localhost:8080/",
          "height": 38
        }
      },
      "outputs": [
        {
          "output_type": "execute_result",
          "data": {
            "application/vnd.google.colaboratory.intrinsic+json": {
              "type": "string"
            },
            "text/plain": [
              "'I am 21 years old'"
            ]
          },
          "metadata": {},
          "execution_count": 4
        }
      ],
      "source": [
        "# We can also use double quote\n",
        "\"I am 21 years old\""
      ]
    },
    {
      "cell_type": "code",
      "execution_count": null,
      "metadata": {
        "id": "d0z8c5iU-nz3",
        "outputId": "4335889e-934b-446b-ad26-6726163f2d92",
        "colab": {
          "base_uri": "https://localhost:8080/",
          "height": 130
        }
      },
      "outputs": [
        {
          "output_type": "error",
          "ename": "SyntaxError",
          "evalue": "ignored",
          "traceback": [
            "\u001b[0;36m  File \u001b[0;32m\"<ipython-input-6-707fed99791c>\"\u001b[0;36m, line \u001b[0;32m2\u001b[0m\n\u001b[0;31m    'i'm sreehitha .'\u001b[0m\n\u001b[0m       ^\u001b[0m\n\u001b[0;31mSyntaxError\u001b[0m\u001b[0;31m:\u001b[0m invalid syntax\n"
          ]
        }
      ],
      "source": [
        "# Be careful with quotes!\n",
        "'i'm sreehitha .'"
      ]
    },
    {
      "cell_type": "markdown",
      "metadata": {
        "id": "FLbkBLnY-nz4"
      },
      "source": [
        "The above code results in an error as the text “I’m” stops the string. Here, a combination of single quotes and double quotes can be used to get the complete statement."
      ]
    },
    {
      "cell_type": "code",
      "execution_count": null,
      "metadata": {
        "id": "YdJsufil-nz4",
        "outputId": "cda5545c-5bf2-4b7d-ddf4-f023534f4830",
        "colab": {
          "base_uri": "https://localhost:8080/",
          "height": 38
        }
      },
      "outputs": [
        {
          "output_type": "execute_result",
          "data": {
            "application/vnd.google.colaboratory.intrinsic+json": {
              "type": "string"
            },
            "text/plain": [
              "\"i'm sreehitha\""
            ]
          },
          "metadata": {},
          "execution_count": 7
        }
      ],
      "source": [
        "\"i'm sreehitha\""
      ]
    },
    {
      "cell_type": "markdown",
      "metadata": {
        "id": "CoLGtE-r-nz5"
      },
      "source": [
        "Now let's learn about printing strings!"
      ]
    },
    {
      "cell_type": "markdown",
      "metadata": {
        "id": "dfATKMPB-nz5"
      },
      "source": [
        "## Printing a String\n",
        "\n",
        "We can automatically display the output strings using Jupyter notebook with just a string in a cell. But,the correct way to display strings in your output is by using a print function."
      ]
    },
    {
      "cell_type": "code",
      "execution_count": null,
      "metadata": {
        "id": "Z-MTsQjt-nz5",
        "outputId": "2565fd62-0b9d-4923-b3eb-a61aa90c39c2",
        "colab": {
          "base_uri": "https://localhost:8080/",
          "height": 38
        }
      },
      "outputs": [
        {
          "output_type": "execute_result",
          "data": {
            "application/vnd.google.colaboratory.intrinsic+json": {
              "type": "string"
            },
            "text/plain": [
              "'hello world'"
            ]
          },
          "metadata": {},
          "execution_count": 9
        }
      ],
      "source": [
        "# We can simply declare a string\n",
        "\"hello world\"\n"
      ]
    },
    {
      "cell_type": "code",
      "execution_count": null,
      "metadata": {
        "id": "R-TnfKnY-nz6",
        "outputId": "575d4b29-a25b-4f9e-ad11-1826eefe1f38",
        "colab": {
          "base_uri": "https://localhost:8080/",
          "height": 38
        }
      },
      "outputs": [
        {
          "output_type": "execute_result",
          "data": {
            "application/vnd.google.colaboratory.intrinsic+json": {
              "type": "string"
            },
            "text/plain": [
              "'hello world2'"
            ]
          },
          "metadata": {},
          "execution_count": 13
        }
      ],
      "source": [
        "# note that we can't output multiple strings this\n",
        "'hello world1'\n",
        "'hello world2'"
      ]
    },
    {
      "cell_type": "markdown",
      "metadata": {
        "id": "KA47-HsN-nz6"
      },
      "source": [
        "In Python 2, the output of the below code snippet is displayed using \"print\" statement as shown in the below syntax but the same syntax will throw error in Python 3."
      ]
    },
    {
      "cell_type": "code",
      "execution_count": null,
      "metadata": {
        "id": "kpAs_FEV-nz6",
        "outputId": "188728c2-5073-454f-b6fc-1c824783cf4b",
        "colab": {
          "base_uri": "https://localhost:8080/",
          "height": 130
        }
      },
      "outputs": [
        {
          "output_type": "error",
          "ename": "SyntaxError",
          "evalue": "ignored",
          "traceback": [
            "\u001b[0;36m  File \u001b[0;32m\"<ipython-input-15-b575ede34454>\"\u001b[0;36m, line \u001b[0;32m1\u001b[0m\n\u001b[0;31m    print 'hello world1'\u001b[0m\n\u001b[0m                       ^\u001b[0m\n\u001b[0;31mSyntaxError\u001b[0m\u001b[0;31m:\u001b[0m Missing parentheses in call to 'print'. Did you mean print('hello world1')?\n"
          ]
        }
      ],
      "source": [
        "print 'hello world1'\n",
        "print 'hello world2'\n",
        "print \"use \\n to print a new line\"\n",
        "print '\\n'\n",
        "print \"see what i mean\"\n",
        "\n"
      ]
    },
    {
      "cell_type": "markdown",
      "metadata": {
        "id": "hheaHrns-nz7"
      },
      "source": [
        "Note that, In Python 3, print is a function and not a statement. So you would print statements like this:\n",
        "print('Hello World')\n",
        "\n",
        "If you want to use this functionality in Python2, you can import form the __future__ module. \n",
        "\n",
        "**Caution: After importing this; you won't be able to choose the print statement method anymore. So pick the right one whichever  you prefer depending on your Python installation and continue on with it.**"
      ]
    },
    {
      "cell_type": "code",
      "execution_count": 1,
      "metadata": {
        "id": "qm7ohnXj-nz7",
        "colab": {
          "base_uri": "https://localhost:8080/",
          "height": 130
        },
        "outputId": "fb21a9d9-22a8-4e46-a125-392c03049715"
      },
      "outputs": [
        {
          "output_type": "error",
          "ename": "SyntaxError",
          "evalue": "ignored",
          "traceback": [
            "\u001b[0;36m  File \u001b[0;32m\"<ipython-input-1-f5bcf7864649>\"\u001b[0;36m, line \u001b[0;32m2\u001b[0m\n\u001b[0;31m    from __future_ import print _function\u001b[0m\n\u001b[0m                                        ^\u001b[0m\n\u001b[0;31mSyntaxError\u001b[0m\u001b[0;31m:\u001b[0m invalid syntax\n"
          ]
        }
      ],
      "source": [
        "# To use print function from Python 3 in Python 2\n",
        "from __future_ import print _function\n",
        "\n",
        "print 'Hello World'\n"
      ]
    },
    {
      "cell_type": "markdown",
      "metadata": {
        "id": "uzXcJ5c1-nz7"
      },
      "source": [
        "## String Basics"
      ]
    },
    {
      "cell_type": "markdown",
      "metadata": {
        "id": "436HbsIn-nz7"
      },
      "source": [
        "In Strings, the length of the string can be found out by using a function called len()."
      ]
    },
    {
      "cell_type": "code",
      "execution_count": 2,
      "metadata": {
        "id": "Lx_OuH18-nz8",
        "colab": {
          "base_uri": "https://localhost:8080/"
        },
        "outputId": "ca1a047a-e7d7-466c-f206-c4b2649b6bae"
      },
      "outputs": [
        {
          "output_type": "execute_result",
          "data": {
            "text/plain": [
              "9"
            ]
          },
          "metadata": {},
          "execution_count": 2
        }
      ],
      "source": [
        "len(\"sreehitha\")"
      ]
    },
    {
      "cell_type": "markdown",
      "metadata": {
        "id": "IuPTIT9L-nz8"
      },
      "source": [
        "## String Indexing\n",
        "We know strings are a sequence, which means Python can use indexes to call all the sequence parts. Let's learn how String Indexing works.\n",
        "•\tWe use brackets [] after an object to call its index. \n",
        "•\tWe should also note that indexing starts at 0 for Python. \n",
        "Now, Let's create a new object called s and the walk through a few examples of indexing."
      ]
    },
    {
      "cell_type": "code",
      "execution_count": 4,
      "metadata": {
        "id": "TBE2KiLZ-nz8"
      },
      "outputs": [],
      "source": [
        "# Assign s as a string\n",
        "s = \"sreehitha\""
      ]
    },
    {
      "cell_type": "code",
      "execution_count": 5,
      "metadata": {
        "id": "iDNzCznX-nz8",
        "colab": {
          "base_uri": "https://localhost:8080/",
          "height": 38
        },
        "outputId": "4d01a7bf-1721-43df-cdb5-4e6f3347cb22"
      },
      "outputs": [
        {
          "output_type": "execute_result",
          "data": {
            "application/vnd.google.colaboratory.intrinsic+json": {
              "type": "string"
            },
            "text/plain": [
              "'sreehitha'"
            ]
          },
          "metadata": {},
          "execution_count": 5
        }
      ],
      "source": [
        "#Check\n",
        "s"
      ]
    },
    {
      "cell_type": "code",
      "execution_count": 7,
      "metadata": {
        "id": "h1_-Q-8U-nz8",
        "colab": {
          "base_uri": "https://localhost:8080/"
        },
        "outputId": "efbd001c-4626-4ed8-ea49-2475234a582f"
      },
      "outputs": [
        {
          "output_type": "stream",
          "name": "stdout",
          "text": [
            "sreehitha\n"
          ]
        }
      ],
      "source": [
        "# Print the object\n",
        "print(s)"
      ]
    },
    {
      "cell_type": "markdown",
      "metadata": {
        "id": "-0dbrerc-nz9"
      },
      "source": [
        "Let's start indexing!"
      ]
    },
    {
      "cell_type": "code",
      "execution_count": 9,
      "metadata": {
        "id": "xwzJcUA8-nz9",
        "colab": {
          "base_uri": "https://localhost:8080/",
          "height": 38
        },
        "outputId": "53bc4d5c-5fbc-41fd-a5b7-198bb51243d8"
      },
      "outputs": [
        {
          "output_type": "execute_result",
          "data": {
            "application/vnd.google.colaboratory.intrinsic+json": {
              "type": "string"
            },
            "text/plain": [
              "'s'"
            ]
          },
          "metadata": {},
          "execution_count": 9
        }
      ],
      "source": [
        "# Show first element (in this case a letter)\n",
        "s[0]"
      ]
    },
    {
      "cell_type": "code",
      "execution_count": 10,
      "metadata": {
        "id": "YnswzNPh-nz9",
        "colab": {
          "base_uri": "https://localhost:8080/",
          "height": 38
        },
        "outputId": "1792791e-db20-44ca-a656-86dd65013c85"
      },
      "outputs": [
        {
          "output_type": "execute_result",
          "data": {
            "application/vnd.google.colaboratory.intrinsic+json": {
              "type": "string"
            },
            "text/plain": [
              "'r'"
            ]
          },
          "metadata": {},
          "execution_count": 10
        }
      ],
      "source": [
        "s[1]"
      ]
    },
    {
      "cell_type": "code",
      "execution_count": 12,
      "metadata": {
        "id": "galbF8EK-nz9",
        "colab": {
          "base_uri": "https://localhost:8080/",
          "height": 38
        },
        "outputId": "ecebf167-0449-4426-c411-08995ab56bf4"
      },
      "outputs": [
        {
          "output_type": "execute_result",
          "data": {
            "application/vnd.google.colaboratory.intrinsic+json": {
              "type": "string"
            },
            "text/plain": [
              "'a'"
            ]
          },
          "metadata": {},
          "execution_count": 12
        }
      ],
      "source": [
        "s[8]"
      ]
    },
    {
      "cell_type": "markdown",
      "metadata": {
        "id": "cCGWkIzi-nz9"
      },
      "source": [
        "We can use a : to perform *slicing* which grabs everything up to a designated point. For example:"
      ]
    },
    {
      "cell_type": "code",
      "execution_count": 13,
      "metadata": {
        "id": "BDywulE0-nz9",
        "colab": {
          "base_uri": "https://localhost:8080/",
          "height": 38
        },
        "outputId": "a0ecfa08-54b4-4936-d1ae-9ad034f9ea4f"
      },
      "outputs": [
        {
          "output_type": "execute_result",
          "data": {
            "application/vnd.google.colaboratory.intrinsic+json": {
              "type": "string"
            },
            "text/plain": [
              "'reehitha'"
            ]
          },
          "metadata": {},
          "execution_count": 13
        }
      ],
      "source": [
        "# Grab everything past the first term all the way to the length of s which is len(s)\n",
        "s[1:]\n"
      ]
    },
    {
      "cell_type": "code",
      "execution_count": 14,
      "metadata": {
        "id": "zeJb76eO-nz9",
        "colab": {
          "base_uri": "https://localhost:8080/",
          "height": 38
        },
        "outputId": "de399862-c0c3-4c0b-a358-b8b29544226f"
      },
      "outputs": [
        {
          "output_type": "execute_result",
          "data": {
            "application/vnd.google.colaboratory.intrinsic+json": {
              "type": "string"
            },
            "text/plain": [
              "'sreehitha'"
            ]
          },
          "metadata": {},
          "execution_count": 14
        }
      ],
      "source": [
        "# Note that there is no change to the original s\n",
        "s\n"
      ]
    },
    {
      "cell_type": "code",
      "execution_count": 16,
      "metadata": {
        "id": "V3wOjO8C-nz-",
        "colab": {
          "base_uri": "https://localhost:8080/",
          "height": 38
        },
        "outputId": "789837c8-fe77-4f2c-c1fc-eca8d2f20866"
      },
      "outputs": [
        {
          "output_type": "execute_result",
          "data": {
            "application/vnd.google.colaboratory.intrinsic+json": {
              "type": "string"
            },
            "text/plain": [
              "'sre'"
            ]
          },
          "metadata": {},
          "execution_count": 16
        }
      ],
      "source": [
        "# Grab everything UP TO the 3rd index\n",
        "s[:3]\n"
      ]
    },
    {
      "cell_type": "markdown",
      "metadata": {
        "id": "6L-NziCr-nz-"
      },
      "source": [
        "Note the above slicing. Here we're telling Python to grab everything from 0 up to 3. It doesn't include the 3rd index. You'll notice this a lot in Python, where statements and are usually in the context of \"up to, but not including\"."
      ]
    },
    {
      "cell_type": "code",
      "execution_count": 17,
      "metadata": {
        "id": "KDj8a03i-nz-",
        "colab": {
          "base_uri": "https://localhost:8080/",
          "height": 38
        },
        "outputId": "4a929125-8d40-4bff-c90b-7f6c9d5559b9"
      },
      "outputs": [
        {
          "output_type": "execute_result",
          "data": {
            "application/vnd.google.colaboratory.intrinsic+json": {
              "type": "string"
            },
            "text/plain": [
              "'sreehitha'"
            ]
          },
          "metadata": {},
          "execution_count": 17
        }
      ],
      "source": [
        "#Everything\n",
        "s[:]\n"
      ]
    },
    {
      "cell_type": "markdown",
      "metadata": {
        "id": "Vb1ZJXNO-nz-"
      },
      "source": [
        "We can also use negative indexing to go backwards."
      ]
    },
    {
      "cell_type": "code",
      "execution_count": 18,
      "metadata": {
        "id": "CRH9DOvk-nz-",
        "colab": {
          "base_uri": "https://localhost:8080/",
          "height": 38
        },
        "outputId": "5daee75c-0384-46ad-99ec-4dca737bb264"
      },
      "outputs": [
        {
          "output_type": "execute_result",
          "data": {
            "application/vnd.google.colaboratory.intrinsic+json": {
              "type": "string"
            },
            "text/plain": [
              "'a'"
            ]
          },
          "metadata": {},
          "execution_count": 18
        }
      ],
      "source": [
        "# Last letter (one index behind 0 so it loops back around)\n",
        "s[-1]\n"
      ]
    },
    {
      "cell_type": "code",
      "execution_count": 25,
      "metadata": {
        "id": "dama_s---nz-",
        "colab": {
          "base_uri": "https://localhost:8080/",
          "height": 38
        },
        "outputId": "2e1f0271-b422-4df9-b8b4-4d4467a9bab4"
      },
      "outputs": [
        {
          "output_type": "execute_result",
          "data": {
            "application/vnd.google.colaboratory.intrinsic+json": {
              "type": "string"
            },
            "text/plain": [
              "'sreehit'"
            ]
          },
          "metadata": {},
          "execution_count": 25
        }
      ],
      "source": [
        "# Grab everything but the last letter\n",
        "s[ :-2]"
      ]
    },
    {
      "cell_type": "markdown",
      "metadata": {
        "id": "-0jk98F3-nz-"
      },
      "source": [
        "Index and slice notation is used to grab elements of a sequenec by a specified step size (where in 1 is the default size). For instance we can use two colons in a row and then a number specifying the frequency to grab elements. For example:"
      ]
    },
    {
      "cell_type": "code",
      "execution_count": null,
      "metadata": {
        "id": "ssuRozud-nz_"
      },
      "outputs": [],
      "source": [
        "# Grab everything, but go in steps size of 1\n",
        "s[::1]\n"
      ]
    },
    {
      "cell_type": "code",
      "execution_count": null,
      "metadata": {
        "id": "LBYtciK2-nz_"
      },
      "outputs": [],
      "source": [
        "# Grab everything, but go in step sizes of 2\n",
        "s[::2]"
      ]
    },
    {
      "cell_type": "code",
      "execution_count": 26,
      "metadata": {
        "id": "Ne_R_lM3-nz_",
        "colab": {
          "base_uri": "https://localhost:8080/",
          "height": 38
        },
        "outputId": "57a5a8ef-3c66-43c7-b09f-e3e234e21ac9"
      },
      "outputs": [
        {
          "output_type": "execute_result",
          "data": {
            "application/vnd.google.colaboratory.intrinsic+json": {
              "type": "string"
            },
            "text/plain": [
              "'ahtiheers'"
            ]
          },
          "metadata": {},
          "execution_count": 26
        }
      ],
      "source": [
        "# We can use this to print a string backwards\n",
        "s[::-1]"
      ]
    },
    {
      "cell_type": "markdown",
      "metadata": {
        "collapsed": true,
        "id": "3wiHfFZC-nz_"
      },
      "source": [
        "## String Properties\n",
        "\n",
        "Immutability is one the finest string property whichh is created once and the elements within it cannot be changed or replaced. For example:"
      ]
    },
    {
      "cell_type": "code",
      "execution_count": 27,
      "metadata": {
        "id": "hfv2WHka-nz_",
        "colab": {
          "base_uri": "https://localhost:8080/",
          "height": 38
        },
        "outputId": "1113b8e2-b0c8-4b1b-cd72-4a42cf74b071"
      },
      "outputs": [
        {
          "output_type": "execute_result",
          "data": {
            "application/vnd.google.colaboratory.intrinsic+json": {
              "type": "string"
            },
            "text/plain": [
              "'sreehitha'"
            ]
          },
          "metadata": {},
          "execution_count": 27
        }
      ],
      "source": [
        "s"
      ]
    },
    {
      "cell_type": "code",
      "execution_count": 28,
      "metadata": {
        "id": "782Soo_0-nz_",
        "colab": {
          "base_uri": "https://localhost:8080/",
          "height": 38
        },
        "outputId": "f36ea892-8705-477b-91a1-d5df23c249dc"
      },
      "outputs": [
        {
          "output_type": "execute_result",
          "data": {
            "application/vnd.google.colaboratory.intrinsic+json": {
              "type": "string"
            },
            "text/plain": [
              "'s'"
            ]
          },
          "metadata": {},
          "execution_count": 28
        }
      ],
      "source": [
        "# Let's try to change the first letter to 'x'\n",
        "s[0]"
      ]
    },
    {
      "cell_type": "markdown",
      "metadata": {
        "id": "8fV_hQem-nz_"
      },
      "source": [
        "Notice how the error tells us directly what we can't do, change the item assignment!\n",
        "\n",
        "Something we can do is concatenate strings!"
      ]
    },
    {
      "cell_type": "code",
      "execution_count": 29,
      "metadata": {
        "id": "9BSI591L-n0A",
        "colab": {
          "base_uri": "https://localhost:8080/",
          "height": 38
        },
        "outputId": "6819ce5c-9cf0-4932-f7c3-4b6e33e6de70"
      },
      "outputs": [
        {
          "output_type": "execute_result",
          "data": {
            "application/vnd.google.colaboratory.intrinsic+json": {
              "type": "string"
            },
            "text/plain": [
              "'sreehitha'"
            ]
          },
          "metadata": {},
          "execution_count": 29
        }
      ],
      "source": [
        "s"
      ]
    },
    {
      "cell_type": "code",
      "execution_count": 46,
      "metadata": {
        "id": "layMICvQ-n0A"
      },
      "outputs": [],
      "source": [
        "# Concatenate strings!"
      ]
    },
    {
      "cell_type": "code",
      "execution_count": 49,
      "metadata": {
        "id": "rOpcRizT-n0A"
      },
      "outputs": [],
      "source": [
        "# We can reassign s completely though!\n",
        "s = s + ' concatinate me!'"
      ]
    },
    {
      "cell_type": "code",
      "execution_count": null,
      "metadata": {
        "id": "LDPN7sJW-n0A"
      },
      "outputs": [],
      "source": [
        "print(s)"
      ]
    },
    {
      "cell_type": "code",
      "execution_count": null,
      "metadata": {
        "id": "xBWj5KKo-n0A"
      },
      "outputs": [],
      "source": [
        "s\n"
      ]
    },
    {
      "cell_type": "markdown",
      "metadata": {
        "id": "1ATTsGAM-n0A"
      },
      "source": [
        "We can use the multiplication symbol to create repetition!"
      ]
    },
    {
      "cell_type": "code",
      "execution_count": 40,
      "metadata": {
        "id": "M6RxG6Ov-n0A"
      },
      "outputs": [],
      "source": [
        "letter = 'z'"
      ]
    },
    {
      "cell_type": "code",
      "execution_count": 41,
      "metadata": {
        "id": "A6RHVNpL-n0A",
        "colab": {
          "base_uri": "https://localhost:8080/",
          "height": 38
        },
        "outputId": "2d4a1108-9ad1-4e83-a382-738693101be0"
      },
      "outputs": [
        {
          "output_type": "execute_result",
          "data": {
            "application/vnd.google.colaboratory.intrinsic+json": {
              "type": "string"
            },
            "text/plain": [
              "'zzzzzzzzzz'"
            ]
          },
          "metadata": {},
          "execution_count": 41
        }
      ],
      "source": [
        "letter*10"
      ]
    },
    {
      "cell_type": "markdown",
      "metadata": {
        "id": "F8yFBFXv-n0A"
      },
      "source": [
        "## Basic Built-in String methods\n",
        "\n",
        "In Python, Objects have built-in methods which means these methods are functions present inside the object (we will learn about these in much more depth later) that can perform actions or commands on the object itself.\n",
        "\n",
        "Methods can be called with a period followed by the method name. Methods are in the form:\n",
        "\n",
        "object.method(parameters)\n",
        "\n",
        "Where parameters are extra arguments which are passed into the method. Right now, it is not necessary to make 100% sense but going forward we will create our own objects and functions. \n",
        "\n",
        "Here are some examples of built-in methods in strings:"
      ]
    },
    {
      "cell_type": "code",
      "execution_count": null,
      "metadata": {
        "id": "AQFnJI18-n0B"
      },
      "outputs": [],
      "source": [
        "s"
      ]
    },
    {
      "cell_type": "code",
      "execution_count": null,
      "metadata": {
        "id": "9n4_jroF-n0B"
      },
      "outputs": [],
      "source": [
        "# Upper Case a string\n",
        "s.upper()"
      ]
    },
    {
      "cell_type": "code",
      "execution_count": null,
      "metadata": {
        "id": "W1nzoVQX-n0B"
      },
      "outputs": [],
      "source": [
        "# Lower case\n",
        "s.lower()"
      ]
    },
    {
      "cell_type": "code",
      "execution_count": null,
      "metadata": {
        "id": "ichRrAhQ-n0B"
      },
      "outputs": [],
      "source": [
        "# Split a string by blank space (this is the default)\n",
        "s.split()"
      ]
    },
    {
      "cell_type": "code",
      "execution_count": 52,
      "metadata": {
        "id": "_r23wbbo-n0B",
        "colab": {
          "base_uri": "https://localhost:8080/"
        },
        "outputId": "2a8df999-76b6-4260-eeb6-beabb9bece37"
      },
      "outputs": [
        {
          "output_type": "execute_result",
          "data": {
            "text/plain": [
              "['s',\n",
              " 'eehitha concatinate me! concatinate me! concatinate me! concatinate me! concatinate me! concatinate me! concatinate me! concatinate me!']"
            ]
          },
          "metadata": {},
          "execution_count": 52
        }
      ],
      "source": [
        "# Split by a specific element (doesn't include the element that was split on)\n",
        "s.split('r')"
      ]
    },
    {
      "cell_type": "markdown",
      "metadata": {
        "id": "hFISzMvq-n0B"
      },
      "source": [
        "There are many more methods than the ones covered here. To know more about the String functions, Visit the advanced String section."
      ]
    },
    {
      "cell_type": "markdown",
      "metadata": {
        "id": "Qik5SD1P-n0B"
      },
      "source": [
        "## Print Formatting\n",
        "\n",
        "Print Formatting \".format()\" method is used to add formatted objects to the printed string statements. \n",
        "\n",
        "Let's see an example to clearly understand the concept. "
      ]
    },
    {
      "cell_type": "code",
      "execution_count": 53,
      "metadata": {
        "scrolled": true,
        "id": "Ed48h8Jh-n0C",
        "colab": {
          "base_uri": "https://localhost:8080/",
          "height": 38
        },
        "outputId": "ed09d939-7d77-45e3-ee59-fa62d6810a7f"
      },
      "outputs": [
        {
          "output_type": "execute_result",
          "data": {
            "application/vnd.google.colaboratory.intrinsic+json": {
              "type": "string"
            },
            "text/plain": [
              "\"{'sree'}\""
            ]
          },
          "metadata": {},
          "execution_count": 53
        }
      ],
      "source": [
        "format({\"sree\"})"
      ]
    },
    {
      "cell_type": "markdown",
      "metadata": {
        "id": "QlJjV4RX-n0C"
      },
      "source": [
        "## Location and Counting"
      ]
    },
    {
      "cell_type": "code",
      "execution_count": null,
      "metadata": {
        "id": "pf_MIATc-n0C"
      },
      "outputs": [],
      "source": [
        "print(s)\n",
        "s.count('e')"
      ]
    },
    {
      "cell_type": "code",
      "execution_count": 58,
      "metadata": {
        "id": "YWCxjkq_-n0C",
        "colab": {
          "base_uri": "https://localhost:8080/"
        },
        "outputId": "ad9effee-5ea2-47a2-a18a-d9dca1cd909d"
      },
      "outputs": [
        {
          "output_type": "execute_result",
          "data": {
            "text/plain": [
              "2"
            ]
          },
          "metadata": {},
          "execution_count": 58
        }
      ],
      "source": [
        "s.find(\"e\")"
      ]
    },
    {
      "cell_type": "markdown",
      "metadata": {
        "id": "C6-jjHM5-n0C"
      },
      "source": [
        "##Formatting\n",
        "The center() method allows you to place your string 'centered' between a provided string with a certain length. "
      ]
    },
    {
      "cell_type": "code",
      "execution_count": null,
      "metadata": {
        "id": "hQtfaTWh-n0C"
      },
      "outputs": [],
      "source": [
        "s.center(210,'<')"
      ]
    },
    {
      "cell_type": "markdown",
      "metadata": {
        "id": "uTudAdI1-n0C"
      },
      "source": [
        "expandtabs() will expand tab notations \\t into spaces. Let's see an example to understand the concept."
      ]
    },
    {
      "cell_type": "code",
      "execution_count": 69,
      "metadata": {
        "id": "e2JTjvks-n0C",
        "colab": {
          "base_uri": "https://localhost:8080/",
          "height": 38
        },
        "outputId": "099f0455-2032-47ae-f837-4e345cacaf77"
      },
      "outputs": [
        {
          "output_type": "execute_result",
          "data": {
            "application/vnd.google.colaboratory.intrinsic+json": {
              "type": "string"
            },
            "text/plain": [
              "'sree    hitha'"
            ]
          },
          "metadata": {},
          "execution_count": 69
        }
      ],
      "source": [
        "'sree\\thitha'.expandtabs()"
      ]
    },
    {
      "cell_type": "markdown",
      "metadata": {
        "id": "QeB9_gZp-n0C"
      },
      "source": [
        "## is check methods\n",
        "These various methods below check it the string is some case. Lets explore them:"
      ]
    },
    {
      "cell_type": "code",
      "execution_count": 70,
      "metadata": {
        "id": "wAlQt0J4-n0D"
      },
      "outputs": [],
      "source": [
        "s = 'hello'"
      ]
    },
    {
      "cell_type": "markdown",
      "metadata": {
        "id": "43t0OGXd-n0D"
      },
      "source": [
        "isalnum() will return \"True\" if all characters in S are alphanumeric."
      ]
    },
    {
      "cell_type": "code",
      "execution_count": 71,
      "metadata": {
        "id": "BhOPoelU-n0D",
        "colab": {
          "base_uri": "https://localhost:8080/"
        },
        "outputId": "267c1573-5995-4db9-8370-0e256cc47ed5"
      },
      "outputs": [
        {
          "output_type": "execute_result",
          "data": {
            "text/plain": [
              "True"
            ]
          },
          "metadata": {},
          "execution_count": 71
        }
      ],
      "source": [
        "s.isalnum()"
      ]
    },
    {
      "cell_type": "markdown",
      "metadata": {
        "id": "Pn1zscS8-n0D"
      },
      "source": [
        "isalpha() wil return \"True\" if all characters in S are alphabetic."
      ]
    },
    {
      "cell_type": "code",
      "execution_count": 72,
      "metadata": {
        "id": "EYBfU1JC-n0D",
        "colab": {
          "base_uri": "https://localhost:8080/"
        },
        "outputId": "a37a3c26-bf90-4178-eb45-149871127b43"
      },
      "outputs": [
        {
          "output_type": "execute_result",
          "data": {
            "text/plain": [
              "True"
            ]
          },
          "metadata": {},
          "execution_count": 72
        }
      ],
      "source": [
        "s.isalpha()"
      ]
    },
    {
      "cell_type": "markdown",
      "metadata": {
        "id": "950BqvbZ-n0D"
      },
      "source": [
        "islower() will return \"True\" if all cased characters in S are lowercase and there is\n",
        "at least one cased character in S, False otherwise."
      ]
    },
    {
      "cell_type": "code",
      "execution_count": 73,
      "metadata": {
        "id": "Et5eqtzi-n0D",
        "colab": {
          "base_uri": "https://localhost:8080/"
        },
        "outputId": "5ac11a6a-105d-481a-db2d-39ac26adc415"
      },
      "outputs": [
        {
          "output_type": "execute_result",
          "data": {
            "text/plain": [
              "True"
            ]
          },
          "metadata": {},
          "execution_count": 73
        }
      ],
      "source": [
        "s.islower()"
      ]
    },
    {
      "cell_type": "markdown",
      "metadata": {
        "id": "1kx5WOum-n0D"
      },
      "source": [
        "isspace() will return \"True\" if all characters in S are whitespace."
      ]
    },
    {
      "cell_type": "code",
      "execution_count": 74,
      "metadata": {
        "id": "ldyu2wkh-n0E",
        "colab": {
          "base_uri": "https://localhost:8080/"
        },
        "outputId": "a0598c40-e174-432e-dbcb-e66893c01586"
      },
      "outputs": [
        {
          "output_type": "execute_result",
          "data": {
            "text/plain": [
              "False"
            ]
          },
          "metadata": {},
          "execution_count": 74
        }
      ],
      "source": [
        "s.isspace()"
      ]
    },
    {
      "cell_type": "markdown",
      "metadata": {
        "id": "sG_-HzxF-n0E"
      },
      "source": [
        "istitle() will return \"True\" if S is a title cased string and there is at least one character in S, i.e. uppercase characters may only follow uncased characters and lowercase characters only cased ones. Return False otherwise."
      ]
    },
    {
      "cell_type": "code",
      "execution_count": 75,
      "metadata": {
        "id": "FX4fw_GC-n0E",
        "colab": {
          "base_uri": "https://localhost:8080/"
        },
        "outputId": "da817a91-23c1-4503-f1d9-6e4d3151bdd7"
      },
      "outputs": [
        {
          "output_type": "execute_result",
          "data": {
            "text/plain": [
              "False"
            ]
          },
          "metadata": {},
          "execution_count": 75
        }
      ],
      "source": [
        "s.istitle()"
      ]
    },
    {
      "cell_type": "markdown",
      "metadata": {
        "id": "NvA60v8r-n0E"
      },
      "source": [
        "isupper() will return \"True\" if all cased characters in S are uppercase and there is\n",
        "at least one cased character in S, False otherwise."
      ]
    },
    {
      "cell_type": "code",
      "execution_count": 76,
      "metadata": {
        "id": "ul5ETT9c-n0E",
        "colab": {
          "base_uri": "https://localhost:8080/"
        },
        "outputId": "ea9328a2-ad57-49bf-c886-60e66ee29f24"
      },
      "outputs": [
        {
          "output_type": "execute_result",
          "data": {
            "text/plain": [
              "False"
            ]
          },
          "metadata": {},
          "execution_count": 76
        }
      ],
      "source": [
        "s.isupper()"
      ]
    },
    {
      "cell_type": "markdown",
      "metadata": {
        "id": "qGOLG396-n0E"
      },
      "source": [
        "Another method is endswith() which is essentially same as a boolean check on s[-1]"
      ]
    },
    {
      "cell_type": "code",
      "execution_count": 79,
      "metadata": {
        "id": "wbTRqjT1-n0E",
        "colab": {
          "base_uri": "https://localhost:8080/"
        },
        "outputId": "ddabb220-894b-4b7c-c0ea-9e03dbc234d4"
      },
      "outputs": [
        {
          "output_type": "execute_result",
          "data": {
            "text/plain": [
              "False"
            ]
          },
          "metadata": {},
          "execution_count": 79
        }
      ],
      "source": [
        "s.endswith('e')"
      ]
    },
    {
      "cell_type": "markdown",
      "metadata": {
        "id": "dFzIqhlA-n0E"
      },
      "source": [
        "## Built-in Reg. Expressions\n",
        "\n",
        "In Strings, there are some built-in methods which is similar to regular expression operations.\n",
        "•\tSplit() function is used to split the string at a certain element and return a list of the result.\n",
        "•\tPartition is used to return a tuple that includes the separator (the first occurrence), the first half and the end half."
      ]
    },
    {
      "cell_type": "code",
      "execution_count": 81,
      "metadata": {
        "id": "VYnMSEpk-n0E",
        "colab": {
          "base_uri": "https://localhost:8080/"
        },
        "outputId": "0052d793-a1ba-47c2-f8a5-c9e0e487e19b"
      },
      "outputs": [
        {
          "output_type": "execute_result",
          "data": {
            "text/plain": [
              "['h', 'llo']"
            ]
          },
          "metadata": {},
          "execution_count": 81
        }
      ],
      "source": [
        "s.split('e')"
      ]
    },
    {
      "cell_type": "code",
      "execution_count": 82,
      "metadata": {
        "id": "6aeanSDX-n0E",
        "colab": {
          "base_uri": "https://localhost:8080/"
        },
        "outputId": "85732b97-0e88-4264-e4ee-290bcf089784"
      },
      "outputs": [
        {
          "output_type": "execute_result",
          "data": {
            "text/plain": [
              "('h', 'e', 'llo')"
            ]
          },
          "metadata": {},
          "execution_count": 82
        }
      ],
      "source": [
        "s.partition('e')"
      ]
    },
    {
      "cell_type": "code",
      "execution_count": 83,
      "metadata": {
        "id": "1a2U5j4i-n0F",
        "colab": {
          "base_uri": "https://localhost:8080/",
          "height": 38
        },
        "outputId": "ce6d167e-7b09-461c-8c76-ab64c5d02d7f"
      },
      "outputs": [
        {
          "output_type": "execute_result",
          "data": {
            "application/vnd.google.colaboratory.intrinsic+json": {
              "type": "string"
            },
            "text/plain": [
              "'hello'"
            ]
          },
          "metadata": {},
          "execution_count": 83
        }
      ],
      "source": [
        "s"
      ]
    },
    {
      "cell_type": "markdown",
      "metadata": {
        "id": "mc9esF-4-n0F"
      },
      "source": [
        "# Lists\n",
        "\n",
        "Earlier, while discussing introduction to strings we have introduced the concept of a *sequence* in Python. In Python, Lists can be considered as the most general version of a \"sequence\". Unlike strings, they are mutable which means the elements inside a list can be changed!\n",
        "\n",
        "Lists are constructed with brackets [] and commas separating every element in the list.\n",
        "\n",
        "Let's go ahead and see how we can construct lists!"
      ]
    },
    {
      "cell_type": "code",
      "execution_count": 85,
      "metadata": {
        "id": "QafDSfZF-n0F"
      },
      "outputs": [],
      "source": [
        "# Assign a list to an variable named my_list\n",
        "my_list = ['a','b','c']"
      ]
    },
    {
      "cell_type": "markdown",
      "metadata": {
        "id": "LPlubU4f-n0F"
      },
      "source": [
        "We just created a list of integers, but lists can actually hold different object types. For example:"
      ]
    },
    {
      "cell_type": "code",
      "execution_count": 86,
      "metadata": {
        "id": "QWBgEy7g-n0F",
        "colab": {
          "base_uri": "https://localhost:8080/"
        },
        "outputId": "8e40c6b3-af4c-4f0e-aaf0-d5304118166e"
      },
      "outputs": [
        {
          "output_type": "execute_result",
          "data": {
            "text/plain": [
              "['apple', 2.0, 36, 'bee']"
            ]
          },
          "metadata": {},
          "execution_count": 86
        }
      ],
      "source": [
        "my_list = ['apple',2.0,36,'bee']\n",
        "my_list"
      ]
    },
    {
      "cell_type": "markdown",
      "metadata": {
        "id": "DMHN2Qu5-n0F"
      },
      "source": [
        "Just like strings, the len() function will tell you how many items are in the sequence of the list."
      ]
    },
    {
      "cell_type": "code",
      "execution_count": 87,
      "metadata": {
        "id": "Z0aN3zE6-n0F",
        "colab": {
          "base_uri": "https://localhost:8080/"
        },
        "outputId": "2950e76e-5416-422e-c4a3-87b3fd2e3e78"
      },
      "outputs": [
        {
          "output_type": "execute_result",
          "data": {
            "text/plain": [
              "4"
            ]
          },
          "metadata": {},
          "execution_count": 87
        }
      ],
      "source": [
        "len(my_list)"
      ]
    },
    {
      "cell_type": "markdown",
      "metadata": {
        "id": "bfB5UDEn-n0F"
      },
      "source": [
        "### Indexing and Slicing\n",
        "Indexing and slicing of lists works just like in Strings. Let's make a new list to remind ourselves of how this works:"
      ]
    },
    {
      "cell_type": "code",
      "execution_count": 99,
      "metadata": {
        "id": "HLS71T6B-n0F"
      },
      "outputs": [],
      "source": [
        "n = [1,2,3,'mango','b']"
      ]
    },
    {
      "cell_type": "code",
      "execution_count": 100,
      "metadata": {
        "id": "rOnJ7oId-n0F",
        "colab": {
          "base_uri": "https://localhost:8080/"
        },
        "outputId": "dca312e3-f45e-48e0-c7ed-32c663bfd8b1"
      },
      "outputs": [
        {
          "output_type": "execute_result",
          "data": {
            "text/plain": [
              "1"
            ]
          },
          "metadata": {},
          "execution_count": 100
        }
      ],
      "source": [
        "# Grab element at index 0\n",
        "n[0]\n"
      ]
    },
    {
      "cell_type": "code",
      "execution_count": 101,
      "metadata": {
        "id": "c-Pq7KUg-n0G",
        "colab": {
          "base_uri": "https://localhost:8080/"
        },
        "outputId": "fe5f8697-63ff-4e1c-e5c2-145cc97dfbad"
      },
      "outputs": [
        {
          "output_type": "execute_result",
          "data": {
            "text/plain": [
              "[2, 3, 'mango', 'b']"
            ]
          },
          "metadata": {},
          "execution_count": 101
        }
      ],
      "source": [
        "# Grab index 1 and everything past it\n",
        "n[1:]"
      ]
    },
    {
      "cell_type": "code",
      "execution_count": 102,
      "metadata": {
        "id": "xOYtziOW-n0G",
        "colab": {
          "base_uri": "https://localhost:8080/"
        },
        "outputId": "803f9a08-25cc-435d-b412-3176a715f48b"
      },
      "outputs": [
        {
          "output_type": "execute_result",
          "data": {
            "text/plain": [
              "[1, 2, 3]"
            ]
          },
          "metadata": {},
          "execution_count": 102
        }
      ],
      "source": [
        "# Grab everything UP TO index 3\n",
        "n[:3]"
      ]
    },
    {
      "cell_type": "markdown",
      "metadata": {
        "id": "GWz8NUsR-n0G"
      },
      "source": [
        "We can also use \"+\" to concatenate lists, just like we did for Strings."
      ]
    },
    {
      "cell_type": "code",
      "execution_count": 103,
      "metadata": {
        "id": "DMm7vi6c-n0G",
        "colab": {
          "base_uri": "https://localhost:8080/"
        },
        "outputId": "352a2e77-1bbf-48c8-ba54-f9a9806a2825"
      },
      "outputs": [
        {
          "output_type": "execute_result",
          "data": {
            "text/plain": [
              "[1, 2, 3, 'mango', 'b', 'd']"
            ]
          },
          "metadata": {},
          "execution_count": 103
        }
      ],
      "source": [
        "n + ['d']"
      ]
    },
    {
      "cell_type": "markdown",
      "metadata": {
        "id": "O_O0G0HL-n0G"
      },
      "source": [
        "Note: This doesn't actually change the original list!"
      ]
    },
    {
      "cell_type": "code",
      "execution_count": 104,
      "metadata": {
        "id": "Mhne5kqO-n0G",
        "colab": {
          "base_uri": "https://localhost:8080/"
        },
        "outputId": "c9ca5270-033d-4f50-b981-84f9d9824f2f"
      },
      "outputs": [
        {
          "output_type": "execute_result",
          "data": {
            "text/plain": [
              "[1, 2, 3, 'mango', 'b']"
            ]
          },
          "metadata": {},
          "execution_count": 104
        }
      ],
      "source": [
        "n"
      ]
    },
    {
      "cell_type": "markdown",
      "metadata": {
        "id": "QfF1egar-n0G"
      },
      "source": [
        "In this case, you have to reassign the list to make the permanent change."
      ]
    },
    {
      "cell_type": "code",
      "execution_count": 105,
      "metadata": {
        "id": "clD0eYOU-n0G"
      },
      "outputs": [],
      "source": [
        "# Reassign\n",
        "n = n + [\"add new item permanently\"]"
      ]
    },
    {
      "cell_type": "code",
      "execution_count": 106,
      "metadata": {
        "id": "8YCbkISB-n0G",
        "colab": {
          "base_uri": "https://localhost:8080/"
        },
        "outputId": "7ed5348c-15a8-463b-cb06-d277f5b1e563"
      },
      "outputs": [
        {
          "output_type": "execute_result",
          "data": {
            "text/plain": [
              "[1, 2, 3, 'mango', 'b', 'add new item permanently']"
            ]
          },
          "metadata": {},
          "execution_count": 106
        }
      ],
      "source": [
        "n"
      ]
    },
    {
      "cell_type": "markdown",
      "metadata": {
        "id": "7lF7Heps-n0H"
      },
      "source": [
        "We can also use the * for a duplication method similar to strings:"
      ]
    },
    {
      "cell_type": "code",
      "execution_count": 107,
      "metadata": {
        "id": "KQJ6D96k-n0H",
        "colab": {
          "base_uri": "https://localhost:8080/"
        },
        "outputId": "0be5a040-15f6-4021-a7ba-3dd6cab5b046"
      },
      "outputs": [
        {
          "output_type": "execute_result",
          "data": {
            "text/plain": [
              "[1,\n",
              " 2,\n",
              " 3,\n",
              " 'mango',\n",
              " 'b',\n",
              " 'add new item permanently',\n",
              " 1,\n",
              " 2,\n",
              " 3,\n",
              " 'mango',\n",
              " 'b',\n",
              " 'add new item permanently']"
            ]
          },
          "metadata": {},
          "execution_count": 107
        }
      ],
      "source": [
        "# Make the list double\n",
        "n*2"
      ]
    },
    {
      "cell_type": "code",
      "execution_count": 108,
      "metadata": {
        "id": "VYxIfdoz-n0H",
        "colab": {
          "base_uri": "https://localhost:8080/"
        },
        "outputId": "ea49eee3-6e83-4f39-f0f1-24260708397e"
      },
      "outputs": [
        {
          "output_type": "execute_result",
          "data": {
            "text/plain": [
              "[1, 2, 3, 'mango', 'b', 'add new item permanently']"
            ]
          },
          "metadata": {},
          "execution_count": 108
        }
      ],
      "source": [
        "# Again doubling not permanent\n",
        "n"
      ]
    },
    {
      "cell_type": "markdown",
      "metadata": {
        "id": "jnaJxvcg-n0H"
      },
      "source": [
        "## Basic List Methods\n",
        "\n",
        "If you are familiar with another programming language, start to draw parallels between lists in Python and arrays in other language. There are two reasons which tells why the lists in Python are more flexible than arrays in other programming language:\n",
        "\n",
        "a. They have no fixed size (which means we need not to specify how big the list will be)\n",
        "b. They have no fixed type constraint \n",
        "\n",
        "Let's go ahead and explore some more special methods for lists:"
      ]
    },
    {
      "cell_type": "code",
      "execution_count": 143,
      "metadata": {
        "id": "HNRd2leW-n0H"
      },
      "outputs": [],
      "source": [
        "# Create a new list\n",
        "m =[1,2,8,3,9]\n"
      ]
    },
    {
      "cell_type": "markdown",
      "metadata": {
        "id": "3eWB1awU-n0H"
      },
      "source": [
        "Use the **append** method to permanently add an item to the end of a list:"
      ]
    },
    {
      "cell_type": "code",
      "execution_count": 144,
      "metadata": {
        "id": "TD5qa7pl-n0H"
      },
      "outputs": [],
      "source": [
        "# Append\n",
        "m.append(\"me\")\n"
      ]
    },
    {
      "cell_type": "code",
      "execution_count": 145,
      "metadata": {
        "id": "gDHPqfzk-n0H",
        "colab": {
          "base_uri": "https://localhost:8080/"
        },
        "outputId": "679beb21-c4f8-4e62-b906-409fe05a0f91"
      },
      "outputs": [
        {
          "output_type": "execute_result",
          "data": {
            "text/plain": [
              "[1, 2, 8, 3, 9, 'me']"
            ]
          },
          "metadata": {},
          "execution_count": 145
        }
      ],
      "source": [
        "# Show\n",
        "m"
      ]
    },
    {
      "cell_type": "markdown",
      "metadata": {
        "id": "JSc-_QeJ-n0H"
      },
      "source": [
        "Use **pop** to \"pop off\" an item from the list. By default pop takes off the last index, but you can also specify which index to pop off. Let's see an example:"
      ]
    },
    {
      "cell_type": "code",
      "execution_count": 146,
      "metadata": {
        "id": "fjxujVGr-n0I",
        "colab": {
          "base_uri": "https://localhost:8080/"
        },
        "outputId": "6b54b23c-0b89-466b-fb40-11bda35ff854"
      },
      "outputs": [
        {
          "output_type": "execute_result",
          "data": {
            "text/plain": [
              "2"
            ]
          },
          "metadata": {},
          "execution_count": 146
        }
      ],
      "source": [
        "# Pop off the 0 indexed item\n",
        "m.pop(1)"
      ]
    },
    {
      "cell_type": "code",
      "execution_count": 147,
      "metadata": {
        "id": "4As4Jzpu-n0I",
        "colab": {
          "base_uri": "https://localhost:8080/"
        },
        "outputId": "963ebcc1-4541-4777-e996-31313758ef08"
      },
      "outputs": [
        {
          "output_type": "execute_result",
          "data": {
            "text/plain": [
              "[1, 8, 3, 9, 'me']"
            ]
          },
          "metadata": {},
          "execution_count": 147
        }
      ],
      "source": [
        "# Show\n",
        "m"
      ]
    },
    {
      "cell_type": "code",
      "execution_count": 148,
      "metadata": {
        "id": "wHF36TD5-n0I"
      },
      "outputs": [],
      "source": [
        "# Assign the popped element, remember default popped index is -1\n",
        "popped_item = m.pop()"
      ]
    },
    {
      "cell_type": "code",
      "execution_count": 149,
      "metadata": {
        "id": "GMVYo0Aq-n0I",
        "colab": {
          "base_uri": "https://localhost:8080/",
          "height": 38
        },
        "outputId": "e3cfc7c9-776a-468b-fcfd-7648ebabdf4f"
      },
      "outputs": [
        {
          "output_type": "execute_result",
          "data": {
            "application/vnd.google.colaboratory.intrinsic+json": {
              "type": "string"
            },
            "text/plain": [
              "'me'"
            ]
          },
          "metadata": {},
          "execution_count": 149
        }
      ],
      "source": [
        "popped_item"
      ]
    },
    {
      "cell_type": "code",
      "execution_count": 150,
      "metadata": {
        "id": "bGKHTVWY-n0I",
        "colab": {
          "base_uri": "https://localhost:8080/"
        },
        "outputId": "20e0056d-038a-4f1f-e59a-83c0e3b838cb"
      },
      "outputs": [
        {
          "output_type": "execute_result",
          "data": {
            "text/plain": [
              "[1, 8, 3, 9]"
            ]
          },
          "metadata": {},
          "execution_count": 150
        }
      ],
      "source": [
        "# Show remaining list\n",
        "m"
      ]
    },
    {
      "cell_type": "markdown",
      "metadata": {
        "id": "ciXWhY9l-n0I"
      },
      "source": [
        "Note that lists indexing will return an error if there is no element at that index. For example:"
      ]
    },
    {
      "cell_type": "code",
      "execution_count": 154,
      "metadata": {
        "id": "Vw_IqR6b-n0I",
        "colab": {
          "base_uri": "https://localhost:8080/",
          "height": 165
        },
        "outputId": "a4b88010-6d71-499d-ae48-48d091042560"
      },
      "outputs": [
        {
          "output_type": "error",
          "ename": "IndexError",
          "evalue": "ignored",
          "traceback": [
            "\u001b[0;31m---------------------------------------------------------------------------\u001b[0m",
            "\u001b[0;31mIndexError\u001b[0m                                Traceback (most recent call last)",
            "\u001b[0;32m<ipython-input-154-e5e10e5528a3>\u001b[0m in \u001b[0;36m<module>\u001b[0;34m()\u001b[0m\n\u001b[0;32m----> 1\u001b[0;31m \u001b[0mm\u001b[0m\u001b[0;34m[\u001b[0m\u001b[0;36m100\u001b[0m\u001b[0;34m]\u001b[0m\u001b[0;34m\u001b[0m\u001b[0;34m\u001b[0m\u001b[0m\n\u001b[0m",
            "\u001b[0;31mIndexError\u001b[0m: list index out of range"
          ]
        }
      ],
      "source": [
        "m[100]"
      ]
    },
    {
      "cell_type": "markdown",
      "metadata": {
        "id": "qIM-iPpW-n0I"
      },
      "source": [
        "We can use the **sort** method and the **reverse** methods to also effect your lists:"
      ]
    },
    {
      "cell_type": "code",
      "execution_count": 156,
      "metadata": {
        "id": "9V8NxI3N-n0I"
      },
      "outputs": [],
      "source": [
        "x = ['i','e','o','u','a']"
      ]
    },
    {
      "cell_type": "code",
      "execution_count": 157,
      "metadata": {
        "id": "-MEJ1jEx-n0J",
        "colab": {
          "base_uri": "https://localhost:8080/"
        },
        "outputId": "e7be0f84-44e5-45e7-ecde-530a710c529d"
      },
      "outputs": [
        {
          "output_type": "execute_result",
          "data": {
            "text/plain": [
              "['i', 'e', 'o', 'u', 'a']"
            ]
          },
          "metadata": {},
          "execution_count": 157
        }
      ],
      "source": [
        "#Show\n",
        "x"
      ]
    },
    {
      "cell_type": "code",
      "execution_count": 158,
      "metadata": {
        "id": "zUWPFQ97-n0J"
      },
      "outputs": [],
      "source": [
        "# Use reverse to reverse order (this is permanent!)\n",
        "x.reverse()"
      ]
    },
    {
      "cell_type": "code",
      "execution_count": 159,
      "metadata": {
        "id": "GRy2Sbwv-n0J",
        "colab": {
          "base_uri": "https://localhost:8080/"
        },
        "outputId": "a218f05c-b75f-4801-b18b-88c9abce11a8"
      },
      "outputs": [
        {
          "output_type": "execute_result",
          "data": {
            "text/plain": [
              "['a', 'u', 'o', 'e', 'i']"
            ]
          },
          "metadata": {},
          "execution_count": 159
        }
      ],
      "source": [
        "x"
      ]
    },
    {
      "cell_type": "code",
      "execution_count": 160,
      "metadata": {
        "id": "g7xVNj3C-n0J"
      },
      "outputs": [],
      "source": [
        "# Use sort to sort the list (in this case alphabetical order, but for numbers it will go ascending)\n",
        "x.sort()"
      ]
    },
    {
      "cell_type": "code",
      "execution_count": 161,
      "metadata": {
        "id": "Sl6K3wlk-n0J",
        "colab": {
          "base_uri": "https://localhost:8080/"
        },
        "outputId": "e7522d2a-0029-4b51-d4f1-075c325bf9b0"
      },
      "outputs": [
        {
          "output_type": "execute_result",
          "data": {
            "text/plain": [
              "['a', 'e', 'i', 'o', 'u']"
            ]
          },
          "metadata": {},
          "execution_count": 161
        }
      ],
      "source": [
        "x"
      ]
    },
    {
      "cell_type": "markdown",
      "metadata": {
        "id": "VsWam8gT-n0J"
      },
      "source": [
        "## Nesting Lists\n",
        "\n",
        "Nesting Lists is one of the great features in Python data structures. Nesting Lists means we can have data structures within data structures. \n",
        "\n",
        "For example: A list inside a list.\n",
        "\n",
        "Let's see how Nesting lists works!"
      ]
    },
    {
      "cell_type": "code",
      "execution_count": 162,
      "metadata": {
        "id": "0Yoma2gq-n0J"
      },
      "outputs": [],
      "source": [
        "# Let's make three lists\n",
        "lst1=[1,2,3]\n",
        "lst2=[4,5,6]\n",
        "lst3=[7,8,9]\n",
        "\n",
        "# Make a list of lists to form a matrix\n",
        "matrix = [lst1,lst2,lst3]"
      ]
    },
    {
      "cell_type": "code",
      "execution_count": 163,
      "metadata": {
        "id": "gQyjAnZw-n0J",
        "colab": {
          "base_uri": "https://localhost:8080/"
        },
        "outputId": "910eeba4-8b85-4919-8f52-b6e4ebb89d30"
      },
      "outputs": [
        {
          "output_type": "execute_result",
          "data": {
            "text/plain": [
              "[[1, 2, 3], [4, 5, 6], [7, 8, 9]]"
            ]
          },
          "metadata": {},
          "execution_count": 163
        }
      ],
      "source": [
        "# Show\n",
        "matrix"
      ]
    },
    {
      "cell_type": "markdown",
      "metadata": {
        "id": "BIwizlDI-n0K"
      },
      "source": [
        "We can re-use indexing to grab elements, but now there are two levels for the index. \n",
        "\n",
        "a. The items in the matrix object\n",
        "b. The items inside the list"
      ]
    },
    {
      "cell_type": "code",
      "execution_count": 164,
      "metadata": {
        "id": "xZ0yWM15-n0K",
        "colab": {
          "base_uri": "https://localhost:8080/"
        },
        "outputId": "238bff55-17ed-4a13-c261-8f6ff0c2b45c"
      },
      "outputs": [
        {
          "output_type": "execute_result",
          "data": {
            "text/plain": [
              "[1, 2, 3]"
            ]
          },
          "metadata": {},
          "execution_count": 164
        }
      ],
      "source": [
        "# Grab first item in matrix object\n",
        "matrix[0]"
      ]
    },
    {
      "cell_type": "code",
      "execution_count": 165,
      "metadata": {
        "id": "7DhKqfAZ-n0K",
        "colab": {
          "base_uri": "https://localhost:8080/"
        },
        "outputId": "34c7a1e1-bec3-4bfb-fd04-ed496c4923c0"
      },
      "outputs": [
        {
          "output_type": "execute_result",
          "data": {
            "text/plain": [
              "1"
            ]
          },
          "metadata": {},
          "execution_count": 165
        }
      ],
      "source": [
        "# Grab first item of the first item in the matrix object\n",
        "matrix[0][0]"
      ]
    },
    {
      "cell_type": "markdown",
      "metadata": {
        "id": "7QMWiYI--n0K"
      },
      "source": [
        "# List Comprehensions\n",
        "\n",
        "Python has an advanced feature called list comprehensions which allows for quick construction of lists. \n",
        "\n",
        "Before we try to understand list comprehensions completely we need to understand \"for\" loops. \n",
        "\n",
        "So don't worry if you don't completely understand this section, and feel free to just skip it since we will return to this topic later.\n",
        "\n",
        "Here are few of oue examples which helps you to understand list comprehensions. "
      ]
    },
    {
      "cell_type": "code",
      "execution_count": 166,
      "metadata": {
        "id": "A1pkO99n-n0L"
      },
      "outputs": [],
      "source": [
        "# Build a list comprehension by deconstructing a for loop within a []\n",
        "f_col = [row[0] for row in matrix]"
      ]
    },
    {
      "cell_type": "code",
      "execution_count": 167,
      "metadata": {
        "id": "Er6TYcuk-n0L",
        "colab": {
          "base_uri": "https://localhost:8080/"
        },
        "outputId": "69913cc5-adb7-4a3b-b762-f4c437b61433"
      },
      "outputs": [
        {
          "output_type": "execute_result",
          "data": {
            "text/plain": [
              "[1, 4, 7]"
            ]
          },
          "metadata": {},
          "execution_count": 167
        }
      ],
      "source": [
        "f_col"
      ]
    },
    {
      "cell_type": "markdown",
      "metadata": {
        "id": "HEE78hiP-n0L"
      },
      "source": [
        "# Advanced Lists\n",
        "\n",
        "In this series of lectures, we will be diving a little deeper into all the available methods in a list object. These are just methods that should encountered without some additional exploring. Its pretty likely that you've already encountered some of these yourself!\n",
        "\n",
        "Lets begin!"
      ]
    },
    {
      "cell_type": "code",
      "execution_count": 173,
      "metadata": {
        "id": "41H3xJJA-n0M"
      },
      "outputs": [],
      "source": [
        "l = [0,1,2,3]"
      ]
    },
    {
      "cell_type": "markdown",
      "metadata": {
        "id": "F-v5IAAl-n0M"
      },
      "source": [
        "## append\n",
        "\n",
        "Definitely, You have used this method by now, which merely appends an element to the end of a list:"
      ]
    },
    {
      "cell_type": "code",
      "execution_count": 174,
      "metadata": {
        "id": "xpMq45WH-n0M",
        "colab": {
          "base_uri": "https://localhost:8080/"
        },
        "outputId": "33962cef-04bc-49f2-9e19-81267ed6e0c6"
      },
      "outputs": [
        {
          "output_type": "execute_result",
          "data": {
            "text/plain": [
              "[0, 1, 2, 3, 4]"
            ]
          },
          "metadata": {},
          "execution_count": 174
        }
      ],
      "source": [
        "l.append(4)\n",
        "l"
      ]
    },
    {
      "cell_type": "markdown",
      "metadata": {
        "id": "gZU7t_5w-n0M"
      },
      "source": [
        "## count\n",
        "We discussed this during the methods lectures, but here it is again. count() takes in an element and returns the number of times it occures in your list:"
      ]
    },
    {
      "cell_type": "code",
      "execution_count": 175,
      "metadata": {
        "id": "29bIo7Eu-n0M",
        "colab": {
          "base_uri": "https://localhost:8080/"
        },
        "outputId": "3271297c-5fc9-4e96-9ec4-07751d29e151"
      },
      "outputs": [
        {
          "output_type": "execute_result",
          "data": {
            "text/plain": [
              "0"
            ]
          },
          "metadata": {},
          "execution_count": 175
        }
      ],
      "source": [
        "l.count(10)"
      ]
    },
    {
      "cell_type": "code",
      "execution_count": 176,
      "metadata": {
        "id": "HKPKL_vQ-n0N",
        "colab": {
          "base_uri": "https://localhost:8080/"
        },
        "outputId": "7c9e488d-fd63-4872-896b-284e30610832"
      },
      "outputs": [
        {
          "output_type": "execute_result",
          "data": {
            "text/plain": [
              "1"
            ]
          },
          "metadata": {},
          "execution_count": 176
        }
      ],
      "source": [
        "l.count(4)"
      ]
    },
    {
      "cell_type": "markdown",
      "metadata": {
        "id": "IJ_UWqzS-n0N"
      },
      "source": [
        "## extend\n",
        "Many times people find the difference between extend and append to be unclear. So note that,\n",
        "\n",
        "**append: Appends object at end**"
      ]
    },
    {
      "cell_type": "code",
      "execution_count": 178,
      "metadata": {
        "id": "R-x8E15r-n0N",
        "colab": {
          "base_uri": "https://localhost:8080/"
        },
        "outputId": "cbd328ac-f0b8-430f-809a-edb80485a7f8"
      },
      "outputs": [
        {
          "output_type": "stream",
          "name": "stdout",
          "text": [
            "[1, 2, 3, [5, 6]]\n"
          ]
        }
      ],
      "source": [
        "x = [1,2,3,]\n",
        "x.append([5,6])\n",
        "print(x)"
      ]
    },
    {
      "cell_type": "markdown",
      "metadata": {
        "id": "wPTCLVSt-n0N"
      },
      "source": [
        "**extend: extends list by appending elements from the iterable**"
      ]
    },
    {
      "cell_type": "code",
      "execution_count": 179,
      "metadata": {
        "id": "3ah3_MGO-n0N",
        "colab": {
          "base_uri": "https://localhost:8080/"
        },
        "outputId": "651aa2a4-c3e7-44b9-f21c-149fd6c18e89"
      },
      "outputs": [
        {
          "output_type": "stream",
          "name": "stdout",
          "text": [
            "[1, 2, 3, 4, 5]\n"
          ]
        }
      ],
      "source": [
        "x = [1,2,3]\n",
        "x.extend([4,5])\n",
        "print(x)"
      ]
    },
    {
      "cell_type": "markdown",
      "metadata": {
        "id": "S8CSmRBv-n0O"
      },
      "source": [
        "Note how extend append each element in that iterable. That is the key difference."
      ]
    },
    {
      "cell_type": "markdown",
      "metadata": {
        "id": "bkXmQ710-n0O"
      },
      "source": [
        "## index\n",
        "\n",
        "index returns the element placed as an argument. Make a note that if the element is not in the list then it returns an error.\n"
      ]
    },
    {
      "cell_type": "code",
      "execution_count": 180,
      "metadata": {
        "id": "yO-qT6eE-n0O",
        "colab": {
          "base_uri": "https://localhost:8080/"
        },
        "outputId": "e3689137-5c5e-4d8f-ab26-2cf29eb211a1"
      },
      "outputs": [
        {
          "output_type": "stream",
          "name": "stdout",
          "text": [
            "[0, 1, 2, 3, 4]\n"
          ]
        },
        {
          "output_type": "execute_result",
          "data": {
            "text/plain": [
              "2"
            ]
          },
          "metadata": {},
          "execution_count": 180
        }
      ],
      "source": [
        "print(l)\n",
        "l.index(2)"
      ]
    },
    {
      "cell_type": "code",
      "execution_count": 181,
      "metadata": {
        "id": "GaMIoRX--n0O",
        "colab": {
          "base_uri": "https://localhost:8080/",
          "height": 165
        },
        "outputId": "3fb618fe-8540-4e3f-bf4b-f8df9bf0ec33"
      },
      "outputs": [
        {
          "output_type": "error",
          "ename": "ValueError",
          "evalue": "ignored",
          "traceback": [
            "\u001b[0;31m---------------------------------------------------------------------------\u001b[0m",
            "\u001b[0;31mValueError\u001b[0m                                Traceback (most recent call last)",
            "\u001b[0;32m<ipython-input-181-92186143d1b2>\u001b[0m in \u001b[0;36m<module>\u001b[0;34m()\u001b[0m\n\u001b[0;32m----> 1\u001b[0;31m \u001b[0ml\u001b[0m\u001b[0;34m.\u001b[0m\u001b[0mindex\u001b[0m\u001b[0;34m(\u001b[0m\u001b[0;36m5\u001b[0m\u001b[0;34m)\u001b[0m\u001b[0;34m\u001b[0m\u001b[0;34m\u001b[0m\u001b[0m\n\u001b[0m",
            "\u001b[0;31mValueError\u001b[0m: 5 is not in list"
          ]
        }
      ],
      "source": [
        "l.index(5)"
      ]
    },
    {
      "cell_type": "markdown",
      "metadata": {
        "id": "RBda-3AF-n0O"
      },
      "source": [
        "## insert \n",
        "\n",
        "Two arguments can be placed in insert method. \n",
        "\n",
        "Syntax: insert(index,object) \n",
        "\n",
        "This method places the object at the index supplied. For example:"
      ]
    },
    {
      "cell_type": "code",
      "execution_count": 192,
      "metadata": {
        "id": "BVw2NOjm-n0P"
      },
      "outputs": [],
      "source": [
        "l = [1,2,3,4,5]"
      ]
    },
    {
      "cell_type": "code",
      "execution_count": 193,
      "metadata": {
        "id": "1HOvuB-_-n0P"
      },
      "outputs": [],
      "source": [
        "# Place a letter at the index 2\n",
        "l.insert(0,'inserted')\n"
      ]
    },
    {
      "cell_type": "code",
      "execution_count": 194,
      "metadata": {
        "id": "uLW1SIoM-n0P",
        "colab": {
          "base_uri": "https://localhost:8080/"
        },
        "outputId": "e0ce8bdf-25b4-4376-d3e9-a05748a42c3c"
      },
      "outputs": [
        {
          "output_type": "execute_result",
          "data": {
            "text/plain": [
              "['inserted', 1, 2, 3, 4, 5]"
            ]
          },
          "metadata": {},
          "execution_count": 194
        }
      ],
      "source": [
        "l"
      ]
    },
    {
      "cell_type": "markdown",
      "metadata": {
        "id": "7Jx9X5Gj-n0P"
      },
      "source": [
        "## pop\n",
        "You most likely have already seen pop(), which allows us to \"pop\" off the last element of a list. "
      ]
    },
    {
      "cell_type": "code",
      "execution_count": 195,
      "metadata": {
        "id": "4lDKV1EN-n0P"
      },
      "outputs": [],
      "source": [
        "ele = l.pop()"
      ]
    },
    {
      "cell_type": "code",
      "execution_count": 196,
      "metadata": {
        "id": "EcYwWHmu-n0Q",
        "colab": {
          "base_uri": "https://localhost:8080/"
        },
        "outputId": "5095e872-b4d3-4684-b2be-3cac816a61b3"
      },
      "outputs": [
        {
          "output_type": "execute_result",
          "data": {
            "text/plain": [
              "['inserted', 1, 2, 3, 4]"
            ]
          },
          "metadata": {},
          "execution_count": 196
        }
      ],
      "source": [
        "l"
      ]
    },
    {
      "cell_type": "code",
      "execution_count": 197,
      "metadata": {
        "id": "VEJ38FxT-n0Q",
        "colab": {
          "base_uri": "https://localhost:8080/"
        },
        "outputId": "9280e534-04a1-4836-e71f-bea4646c1a9c"
      },
      "outputs": [
        {
          "output_type": "execute_result",
          "data": {
            "text/plain": [
              "5"
            ]
          },
          "metadata": {},
          "execution_count": 197
        }
      ],
      "source": [
        "ele"
      ]
    },
    {
      "cell_type": "markdown",
      "metadata": {
        "id": "AP0XyP-V-n0Q"
      },
      "source": [
        "## remove\n",
        "The remove() method removes the first occurrence of a value. For example:"
      ]
    },
    {
      "cell_type": "code",
      "execution_count": 198,
      "metadata": {
        "id": "VFyiHImx-n0Q",
        "colab": {
          "base_uri": "https://localhost:8080/"
        },
        "outputId": "d8e7e9f6-babf-47c2-ed73-871a4f1a18b9"
      },
      "outputs": [
        {
          "output_type": "execute_result",
          "data": {
            "text/plain": [
              "['inserted', 1, 2, 3, 4]"
            ]
          },
          "metadata": {},
          "execution_count": 198
        }
      ],
      "source": [
        "l"
      ]
    },
    {
      "cell_type": "code",
      "execution_count": 199,
      "metadata": {
        "id": "h3tK_MCI-n0Q"
      },
      "outputs": [],
      "source": [
        "l.remove('inserted')"
      ]
    },
    {
      "cell_type": "code",
      "execution_count": 200,
      "metadata": {
        "id": "gmL0h87--n0Q",
        "colab": {
          "base_uri": "https://localhost:8080/"
        },
        "outputId": "d7f3592d-1b41-40a8-b239-521e2ce9c480"
      },
      "outputs": [
        {
          "output_type": "execute_result",
          "data": {
            "text/plain": [
              "[1, 2, 3, 4]"
            ]
          },
          "metadata": {},
          "execution_count": 200
        }
      ],
      "source": [
        "l"
      ]
    },
    {
      "cell_type": "code",
      "execution_count": 201,
      "metadata": {
        "id": "Xm5UkMcB-n0R"
      },
      "outputs": [],
      "source": [
        "l = [1,2,3]"
      ]
    },
    {
      "cell_type": "code",
      "execution_count": 202,
      "metadata": {
        "id": "TenkAqZo-n0R"
      },
      "outputs": [],
      "source": [
        "l.remove(3)"
      ]
    },
    {
      "cell_type": "code",
      "execution_count": 203,
      "metadata": {
        "id": "n0pukFzF-n0R",
        "colab": {
          "base_uri": "https://localhost:8080/"
        },
        "outputId": "ff0f2b9d-fcbd-48ed-cc69-020ef79f6593"
      },
      "outputs": [
        {
          "output_type": "execute_result",
          "data": {
            "text/plain": [
              "[1, 2]"
            ]
          },
          "metadata": {},
          "execution_count": 203
        }
      ],
      "source": [
        "l"
      ]
    },
    {
      "cell_type": "markdown",
      "metadata": {
        "id": "Zl--mIzL-n0R"
      },
      "source": [
        "## reverse\n",
        "As the name suggests, reverse() helps you to reverse a list. Note this occurs in place! Meaning it effects your list permanently."
      ]
    },
    {
      "cell_type": "code",
      "execution_count": 204,
      "metadata": {
        "id": "dJqYw435-n0R"
      },
      "outputs": [],
      "source": [
        "l.reverse()"
      ]
    },
    {
      "cell_type": "code",
      "execution_count": 205,
      "metadata": {
        "id": "_Vc4e5CT-n0R",
        "colab": {
          "base_uri": "https://localhost:8080/"
        },
        "outputId": "be2c8701-2031-444f-9c8d-40ddfb74c4f8"
      },
      "outputs": [
        {
          "output_type": "execute_result",
          "data": {
            "text/plain": [
              "[2, 1]"
            ]
          },
          "metadata": {},
          "execution_count": 205
        }
      ],
      "source": [
        "l"
      ]
    },
    {
      "cell_type": "markdown",
      "metadata": {
        "id": "udVaZcHz-n0R"
      },
      "source": [
        "## sort\n",
        "sort will sort your list in place:"
      ]
    },
    {
      "cell_type": "code",
      "execution_count": 206,
      "metadata": {
        "id": "x-R1bhMQ-n0S",
        "colab": {
          "base_uri": "https://localhost:8080/"
        },
        "outputId": "150146e1-f23c-41a7-ee54-0c64ca1f22d1"
      },
      "outputs": [
        {
          "output_type": "execute_result",
          "data": {
            "text/plain": [
              "[2, 1]"
            ]
          },
          "metadata": {},
          "execution_count": 206
        }
      ],
      "source": [
        "l"
      ]
    },
    {
      "cell_type": "code",
      "execution_count": 207,
      "metadata": {
        "id": "YSrOHo6S-n0S"
      },
      "outputs": [],
      "source": [
        "l.sort()"
      ]
    },
    {
      "cell_type": "code",
      "execution_count": 208,
      "metadata": {
        "id": "QCyOpRDE-n0S",
        "colab": {
          "base_uri": "https://localhost:8080/"
        },
        "outputId": "5dece61c-89f9-468c-dc4f-ead0909878b2"
      },
      "outputs": [
        {
          "output_type": "execute_result",
          "data": {
            "text/plain": [
              "[1, 2]"
            ]
          },
          "metadata": {},
          "execution_count": 208
        }
      ],
      "source": [
        "l"
      ]
    }
  ],
  "metadata": {
    "kernelspec": {
      "display_name": "Python 3",
      "language": "python",
      "name": "python3"
    },
    "language_info": {
      "codemirror_mode": {
        "name": "ipython",
        "version": 3
      },
      "file_extension": ".py",
      "mimetype": "text/x-python",
      "name": "python",
      "nbconvert_exporter": "python",
      "pygments_lexer": "ipython3",
      "version": "3.7.3"
    },
    "colab": {
      "name": "Python_Day_2.ipynb",
      "provenance": [],
      "collapsed_sections": []
    }
  },
  "nbformat": 4,
  "nbformat_minor": 0
}