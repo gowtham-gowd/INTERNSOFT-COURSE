{
  "cells": [
    {
      "cell_type": "markdown",
      "metadata": {
        "id": "6_GjdCRUQuVR"
      },
      "source": [
        "# In this session, we are going to explore other container objects and functions\n",
        "\n",
        "## In this session, we are going to learn the following key topics:\n",
        "*   Tuple\n",
        "*   Set\n",
        "*   Dictionary\n",
        "*   Function\n",
        "*   Lambda\n",
        "*   Iterator\n",
        "*   Generator\n",
        "*   Map\n",
        "*   Reduce\n",
        "*   Filter"
      ]
    },
    {
      "cell_type": "markdown",
      "metadata": {
        "id": "ARrU6OUDQuVX"
      },
      "source": [
        "# Tuples\n",
        "\n",
        "In Python, tuples are similar to lists but they are immutable i.e. they cannot be changed. You would use the tuples to present data that shouldn't be changed, such as days of week or dates on  a calendar.\n",
        "\n",
        "In this section, we will get a brief overview of the following key topics:\n",
        "\n",
        "    1.) Constructing Tuples\n",
        "    2.) Basic Tuple Methods\n",
        "    3.) Immutability\n",
        "    4.) When to Use Tuples\n",
        "\n",
        "You'll have an intuition of how to use tuples based on what you've learned about lists. But, Tuples work very similar to lists but the  major difference is tuples are immutable.\n",
        "\n",
        "## Constructing Tuples\n",
        "\n",
        "The construction of tuples use () with elements separated by commas where in the arguments will be passed within brackets. For example:"
      ]
    },
    {
      "cell_type": "code",
      "execution_count": null,
      "metadata": {
        "id": "AK6-WjYgQuVZ"
      },
      "outputs": [],
      "source": [
        "# Can create a tuple with mixed types\n",
        "t = (1,2,3)\n"
      ]
    },
    {
      "cell_type": "code",
      "execution_count": null,
      "metadata": {
        "colab": {
          "base_uri": "https://localhost:8080/"
        },
        "id": "bX6LGjO2QuVb",
        "outputId": "2671cdb1-2ec3-4f30-a0f3-94bc652d2576"
      },
      "outputs": [
        {
          "output_type": "execute_result",
          "data": {
            "text/plain": [
              "3"
            ]
          },
          "metadata": {},
          "execution_count": 2
        }
      ],
      "source": [
        "# Check len just like a list\n",
        "len(t)"
      ]
    },
    {
      "cell_type": "code",
      "execution_count": null,
      "metadata": {
        "colab": {
          "base_uri": "https://localhost:8080/"
        },
        "id": "Y_XXBMypQuVc",
        "outputId": "f6400369-e3ee-43e4-aef4-9c0b88e14951"
      },
      "outputs": [
        {
          "output_type": "execute_result",
          "data": {
            "text/plain": [
              "('one', 5)"
            ]
          },
          "metadata": {},
          "execution_count": 3
        }
      ],
      "source": [
        "# Can also mix object types\n",
        "t = ('one',5)\n",
        "# Show\n",
        "t "
      ]
    },
    {
      "cell_type": "code",
      "execution_count": null,
      "metadata": {
        "colab": {
          "base_uri": "https://localhost:8080/",
          "height": 38
        },
        "id": "5oFgPuZJQuVd",
        "outputId": "b0b7e0ab-4257-436a-d5f9-51ba54635bea"
      },
      "outputs": [
        {
          "output_type": "execute_result",
          "data": {
            "application/vnd.google.colaboratory.intrinsic+json": {
              "type": "string"
            },
            "text/plain": [
              "'one'"
            ]
          },
          "metadata": {},
          "execution_count": 4
        }
      ],
      "source": [
        "# Use indexing just like we did in lists\n",
        "t[0]"
      ]
    },
    {
      "cell_type": "code",
      "execution_count": null,
      "metadata": {
        "colab": {
          "base_uri": "https://localhost:8080/"
        },
        "id": "BC8JQLueQuVe",
        "outputId": "b9a38d65-b2fc-4407-f00d-90938348fa5b"
      },
      "outputs": [
        {
          "output_type": "execute_result",
          "data": {
            "text/plain": [
              "5"
            ]
          },
          "metadata": {},
          "execution_count": 6
        }
      ],
      "source": [
        "# Slicing just like a list\n",
        "t[-1]"
      ]
    },
    {
      "cell_type": "markdown",
      "metadata": {
        "id": "zKVY6YnAQuVg"
      },
      "source": [
        "## Basic Tuple Methods\n",
        "\n",
        "Tuples have built-in methods, but not as many as lists do. Let's see two samples of tuple built-in methods:"
      ]
    },
    {
      "cell_type": "code",
      "execution_count": null,
      "metadata": {
        "colab": {
          "base_uri": "https://localhost:8080/"
        },
        "id": "RR0zpW0yQuVh",
        "outputId": "b348d6f9-9533-4530-d998-d362f23b4c77"
      },
      "outputs": [
        {
          "output_type": "execute_result",
          "data": {
            "text/plain": [
              "1"
            ]
          },
          "metadata": {},
          "execution_count": 7
        }
      ],
      "source": [
        "# Use .index to enter a value and return the index\n",
        "t.index(5)\n"
      ]
    },
    {
      "cell_type": "code",
      "execution_count": null,
      "metadata": {
        "colab": {
          "base_uri": "https://localhost:8080/"
        },
        "id": "BFOZLvqpQuVi",
        "outputId": "062ce7f1-c8ce-4585-f5ee-6bedc60796ae"
      },
      "outputs": [
        {
          "output_type": "execute_result",
          "data": {
            "text/plain": [
              "1"
            ]
          },
          "metadata": {},
          "execution_count": 9
        }
      ],
      "source": [
        "# Use .count to count the number of times a value appears\n",
        "t.count(5)"
      ]
    },
    {
      "cell_type": "markdown",
      "metadata": {
        "id": "h0Zu47iqQuVk"
      },
      "source": [
        "## Immutability\n",
        "\n",
        "As tuples are immutable, it can't be stressed enough and add more into it. To drive that point home:"
      ]
    },
    {
      "cell_type": "code",
      "execution_count": null,
      "metadata": {
        "colab": {
          "base_uri": "https://localhost:8080/",
          "height": 165
        },
        "id": "WnRpzSIvQuVk",
        "outputId": "bb17e57c-70bc-4c74-df2e-1853620e6043"
      },
      "outputs": [
        {
          "output_type": "error",
          "ename": "TypeError",
          "evalue": "ignored",
          "traceback": [
            "\u001b[0;31m---------------------------------------------------------------------------\u001b[0m",
            "\u001b[0;31mTypeError\u001b[0m                                 Traceback (most recent call last)",
            "\u001b[0;32m<ipython-input-11-8dd630718529>\u001b[0m in \u001b[0;36m<module>\u001b[0;34m()\u001b[0m\n\u001b[0;32m----> 1\u001b[0;31m \u001b[0mt\u001b[0m\u001b[0;34m[\u001b[0m\u001b[0;36m0\u001b[0m\u001b[0;34m]\u001b[0m \u001b[0;34m=\u001b[0m \u001b[0;34m[\u001b[0m\u001b[0;34m'hello'\u001b[0m\u001b[0;34m]\u001b[0m\u001b[0;34m\u001b[0m\u001b[0;34m\u001b[0m\u001b[0m\n\u001b[0m",
            "\u001b[0;31mTypeError\u001b[0m: 'tuple' object does not support item assignment"
          ]
        }
      ],
      "source": [
        "t[0] = 'hello'"
      ]
    },
    {
      "cell_type": "markdown",
      "metadata": {
        "id": "cWx21gKdQuVl"
      },
      "source": [
        "Because tuple being immutable they can't grow. Once a tuple is made we can not add to it."
      ]
    },
    {
      "cell_type": "code",
      "execution_count": null,
      "metadata": {
        "colab": {
          "base_uri": "https://localhost:8080/",
          "height": 165
        },
        "id": "42qzjn0rQuVm",
        "outputId": "195a794a-bbc6-46f7-df7c-a150ba7518d1"
      },
      "outputs": [
        {
          "output_type": "error",
          "ename": "AttributeError",
          "evalue": "ignored",
          "traceback": [
            "\u001b[0;31m---------------------------------------------------------------------------\u001b[0m",
            "\u001b[0;31mAttributeError\u001b[0m                            Traceback (most recent call last)",
            "\u001b[0;32m<ipython-input-13-20eb8163e3b1>\u001b[0m in \u001b[0;36m<module>\u001b[0;34m()\u001b[0m\n\u001b[0;32m----> 1\u001b[0;31m \u001b[0mt\u001b[0m\u001b[0;34m.\u001b[0m\u001b[0mappend\u001b[0m\u001b[0;34m(\u001b[0m\u001b[0;34m'hello'\u001b[0m\u001b[0;34m)\u001b[0m\u001b[0;34m\u001b[0m\u001b[0;34m\u001b[0m\u001b[0m\n\u001b[0m",
            "\u001b[0;31mAttributeError\u001b[0m: 'tuple' object has no attribute 'append'"
          ]
        }
      ],
      "source": [
        "t.append('hello')"
      ]
    },
    {
      "cell_type": "markdown",
      "metadata": {
        "id": "4c316PozQuVm"
      },
      "source": [
        "## When to use Tuples\n",
        "\n",
        "You may be wondering, \"Why to bother using tuples when they have a few available methods?\" \n",
        "\n",
        "Tuples are not used often as lists in programming but are used when immutability is necessary. While you are passing around an object and if you need to make sure that it does not get changed then tuple become your solution. It provides a convenient source of data integrity.\n",
        "\n",
        "You should now be able to create and use tuples in your programming as well as have a complete understanding of their immutability."
      ]
    },
    {
      "cell_type": "markdown",
      "metadata": {
        "id": "iFIaAkmbQuVn"
      },
      "source": [
        "# Sets\n",
        "\n",
        "Sets are an unordered collection of *unique* elements which can be constructed using the set() function. \n",
        "\n",
        "Let's go ahead and create a set to see how it works."
      ]
    },
    {
      "cell_type": "code",
      "execution_count": null,
      "metadata": {
        "id": "IyCQif9eQuVn"
      },
      "outputs": [],
      "source": [
        "x = set()"
      ]
    },
    {
      "cell_type": "code",
      "execution_count": null,
      "metadata": {
        "id": "z5ADLgyuQuVo"
      },
      "outputs": [],
      "source": [
        "# We add to sets with the add() method\n",
        "x.add(5)"
      ]
    },
    {
      "cell_type": "code",
      "execution_count": null,
      "metadata": {
        "colab": {
          "base_uri": "https://localhost:8080/"
        },
        "id": "mOOCoJxQQuVp",
        "outputId": "0d2eae79-6f47-4460-8f1e-5cbdd4f8efc0"
      },
      "outputs": [
        {
          "output_type": "execute_result",
          "data": {
            "text/plain": [
              "{5}"
            ]
          },
          "metadata": {},
          "execution_count": 18
        }
      ],
      "source": [
        "#Show\n",
        "x"
      ]
    },
    {
      "cell_type": "markdown",
      "metadata": {
        "id": "qlmwlBNcQuVp"
      },
      "source": [
        "Note that the curly brackets do not indicate a dictionary! Using only keys, you can draw analogies as a set being a dictionary.\n",
        "\n",
        "We know that a set has an only unique entry. Now, let us see what happens when we try to add something more that is already present in a set?"
      ]
    },
    {
      "cell_type": "code",
      "execution_count": null,
      "metadata": {
        "id": "Nf9iEGeAQuVq"
      },
      "outputs": [],
      "source": [
        "# Add a different element\n",
        "x.add(6)\n"
      ]
    },
    {
      "cell_type": "code",
      "execution_count": null,
      "metadata": {
        "colab": {
          "base_uri": "https://localhost:8080/"
        },
        "id": "VDjfzbGDQuVq",
        "outputId": "71b236da-4380-44fa-ff50-48679951846d"
      },
      "outputs": [
        {
          "output_type": "execute_result",
          "data": {
            "text/plain": [
              "{5, 6}"
            ]
          },
          "metadata": {},
          "execution_count": 20
        }
      ],
      "source": [
        "#Show\n",
        "x"
      ]
    },
    {
      "cell_type": "code",
      "execution_count": null,
      "metadata": {
        "id": "n1GpxnwcQuVq"
      },
      "outputs": [],
      "source": [
        "# Try to add the same element\n",
        "x.add(6)"
      ]
    },
    {
      "cell_type": "code",
      "execution_count": null,
      "metadata": {
        "colab": {
          "base_uri": "https://localhost:8080/"
        },
        "id": "6eg5fPXiQuVr",
        "outputId": "e50c4cd2-9e00-4e87-f8ed-e2ead745a80b"
      },
      "outputs": [
        {
          "output_type": "execute_result",
          "data": {
            "text/plain": [
              "{5, 6}"
            ]
          },
          "metadata": {},
          "execution_count": 22
        }
      ],
      "source": [
        "#Show\n",
        "x\n"
      ]
    },
    {
      "cell_type": "markdown",
      "metadata": {
        "id": "Xb_UB-4TQuVs"
      },
      "source": [
        "Notice, how it won't place another 1 there as a set is only concerned with unique elements! However, We can cast a list with multiple repeat elements to a set to get the unique elements. For example:"
      ]
    },
    {
      "cell_type": "code",
      "execution_count": null,
      "metadata": {
        "id": "t5G5yowHQuVs"
      },
      "outputs": [],
      "source": [
        "# Create a list with repeats\n",
        "l = [1,5,4,8,1,6,8,6,5]"
      ]
    },
    {
      "cell_type": "code",
      "execution_count": null,
      "metadata": {
        "colab": {
          "base_uri": "https://localhost:8080/"
        },
        "id": "purb63mdQuVt",
        "outputId": "07c55d1a-df51-454e-d04e-aa81164d6fdb"
      },
      "outputs": [
        {
          "output_type": "execute_result",
          "data": {
            "text/plain": [
              "{1, 4, 5, 6, 8}"
            ]
          },
          "metadata": {},
          "execution_count": 24
        }
      ],
      "source": [
        "# Cast as set to get unique values\n",
        "set(l)"
      ]
    },
    {
      "cell_type": "markdown",
      "metadata": {
        "id": "5vPm3-7sQuVt"
      },
      "source": [
        "# Dictionaries\n",
        "\n",
        "We have learned about \"Sequences\" in the previous session. Now, let's switch the gears and learn about \"mappings\" in Python. These dictionaries are nothing but hash tables in other programming languages.\n",
        "\n",
        "In this section, we will learn briefly about an introduction to dictionaries and what it consists of:\n",
        "\n",
        "    1.) Constructing a Dictionary\n",
        "    2.) Accessing objects from a Dictionary\n",
        "    3.) Nesting Dictionaries\n",
        "    4.) Basic Dictionary Methods\n",
        "\n",
        "Before we dive deep into this concept, let's understand what are Mappings? \n",
        "\n",
        "Mappings are a collection of objects that are stored by a \"key\". Unlike a sequence, mapping store objects by their relative position. This is an important distinction since mappings won't retain the order since they have objects defined by a key.\n",
        "\n",
        "A Python dictionary consists of a key and then an associated value. That value can be almost any Python object.\n",
        "\n",
        "\n",
        "## Constructing a Dictionary\n",
        "Let's see how we can construct dictionaries to get a better understanding of how they work!"
      ]
    },
    {
      "cell_type": "code",
      "execution_count": null,
      "metadata": {
        "id": "zJN5dVWIQuVu"
      },
      "outputs": [],
      "source": [
        "# Make a dictionary with {} and : to signify a key and a value\n",
        "d = {'key1':'a','key2':'b'}"
      ]
    },
    {
      "cell_type": "code",
      "execution_count": null,
      "metadata": {
        "colab": {
          "base_uri": "https://localhost:8080/",
          "height": 38
        },
        "id": "c_ZB5gvtQuVv",
        "outputId": "26493bac-4e8b-40ee-e4d0-36aad2561a5c"
      },
      "outputs": [
        {
          "output_type": "execute_result",
          "data": {
            "application/vnd.google.colaboratory.intrinsic+json": {
              "type": "string"
            },
            "text/plain": [
              "'a'"
            ]
          },
          "metadata": {},
          "execution_count": 29
        }
      ],
      "source": [
        "# Call values by their key\n",
        "d['key1']"
      ]
    },
    {
      "cell_type": "markdown",
      "metadata": {
        "id": "5nTfyFoAQuVv"
      },
      "source": [
        "Note that dictionaries are very flexible in the data types they can hold. For example:"
      ]
    },
    {
      "cell_type": "code",
      "execution_count": null,
      "metadata": {
        "id": "5Z0fpKLQQuVv"
      },
      "outputs": [],
      "source": [
        "data = {'key1':['a','b','c'],'key2':123,'key3':[1,2,6]}"
      ]
    },
    {
      "cell_type": "code",
      "execution_count": null,
      "metadata": {
        "colab": {
          "base_uri": "https://localhost:8080/"
        },
        "id": "UwPDukTOQuVw",
        "outputId": "d8bb9dde-ed15-4467-bcc1-d7990bc5b0dd"
      },
      "outputs": [
        {
          "output_type": "execute_result",
          "data": {
            "text/plain": [
              "123"
            ]
          },
          "metadata": {},
          "execution_count": 57
        }
      ],
      "source": [
        "#Let's call items from the dictionary\n",
        "data['key2']"
      ]
    },
    {
      "cell_type": "code",
      "execution_count": null,
      "metadata": {
        "colab": {
          "base_uri": "https://localhost:8080/",
          "height": 38
        },
        "id": "Ctnkkou6QuVw",
        "outputId": "25a19cee-7404-435c-840b-83c891074b5e"
      },
      "outputs": [
        {
          "output_type": "execute_result",
          "data": {
            "application/vnd.google.colaboratory.intrinsic+json": {
              "type": "string"
            },
            "text/plain": [
              "'a'"
            ]
          },
          "metadata": {},
          "execution_count": 58
        }
      ],
      "source": [
        "# Can call an index on that value\n",
        "data['key1'][0]"
      ]
    },
    {
      "cell_type": "code",
      "execution_count": null,
      "metadata": {
        "colab": {
          "base_uri": "https://localhost:8080/",
          "height": 38
        },
        "id": "fCIyUSTmQuVy",
        "outputId": "374da85a-8372-4367-cad3-a9527cc2cc16"
      },
      "outputs": [
        {
          "output_type": "execute_result",
          "data": {
            "application/vnd.google.colaboratory.intrinsic+json": {
              "type": "string"
            },
            "text/plain": [
              "'B'"
            ]
          },
          "metadata": {},
          "execution_count": 60
        }
      ],
      "source": [
        "#Can then even call methods on that value\n",
        "data['key1'][1].upper()"
      ]
    },
    {
      "cell_type": "markdown",
      "metadata": {
        "id": "8t1tSDaAQuVz"
      },
      "source": [
        "We can effect the values of a key as well. For instance:"
      ]
    },
    {
      "cell_type": "code",
      "execution_count": null,
      "metadata": {
        "colab": {
          "base_uri": "https://localhost:8080/"
        },
        "id": "41awD5BqQuV0",
        "outputId": "6434ffae-02cd-4cd1-92f7-769f1cd498cb"
      },
      "outputs": [
        {
          "output_type": "execute_result",
          "data": {
            "text/plain": [
              "123"
            ]
          },
          "metadata": {},
          "execution_count": 61
        }
      ],
      "source": [
        "data['key2']"
      ]
    },
    {
      "cell_type": "code",
      "execution_count": null,
      "metadata": {
        "id": "rWqTl7rlQuV1"
      },
      "outputs": [],
      "source": [
        "# Subtract 432 from the value\n",
        "data['key2'] = data['key2'] - 123"
      ]
    },
    {
      "cell_type": "code",
      "execution_count": null,
      "metadata": {
        "colab": {
          "base_uri": "https://localhost:8080/"
        },
        "id": "jxz_Ok8TQuV1",
        "outputId": "8933c68d-56db-482b-dc04-f543a04b974e"
      },
      "outputs": [
        {
          "output_type": "execute_result",
          "data": {
            "text/plain": [
              "{'key1': ['a', 'b', 'c'], 'key2': 0, 'key3': [1, 2, 6]}"
            ]
          },
          "metadata": {},
          "execution_count": 63
        }
      ],
      "source": [
        "#Check\n",
        "data"
      ]
    },
    {
      "cell_type": "markdown",
      "metadata": {
        "id": "RiUrwhjVQuV2"
      },
      "source": [
        "\\Note, Python has a built-in method of doing a self subtraction or addition (or multiplication or division). We could also use += or -= for the above statement. For example:"
      ]
    },
    {
      "cell_type": "code",
      "execution_count": null,
      "metadata": {
        "colab": {
          "base_uri": "https://localhost:8080/"
        },
        "id": "ud-71HFWQuV2",
        "outputId": "6111eac8-8120-4dff-c469-e43fd41db96e"
      },
      "outputs": [
        {
          "output_type": "stream",
          "name": "stdout",
          "text": [
            "{'key1': ['a', 'b', 'c'], 'key2': 123, 'key3': [1, 2, 6]}\n"
          ]
        }
      ],
      "source": [
        "# Set the object equal to itself minus 123 \n",
        "data['key2'] = 123\n",
        "data['key2']\n",
        "print(data)"
      ]
    },
    {
      "cell_type": "markdown",
      "metadata": {
        "id": "zrb71GyxQuV3"
      },
      "source": [
        "We can also create keys by assignment. For instance if we started off with an empty dictionary, we could continually add to it:"
      ]
    },
    {
      "cell_type": "code",
      "execution_count": null,
      "metadata": {
        "id": "6pdc-PKbQuV4"
      },
      "outputs": [],
      "source": [
        "# Create a new dictionary\n",
        "d = {}"
      ]
    },
    {
      "cell_type": "code",
      "execution_count": null,
      "metadata": {
        "id": "0S8kFrlWQuV4"
      },
      "outputs": [],
      "source": [
        "# Create a new key through assignment\n",
        "d['animal'] = 'dog'"
      ]
    },
    {
      "cell_type": "code",
      "execution_count": null,
      "metadata": {
        "id": "SRwQkHSkQuV5"
      },
      "outputs": [],
      "source": [
        "# Can do this with any object\n",
        "d['answer'] = 45"
      ]
    },
    {
      "cell_type": "code",
      "execution_count": null,
      "metadata": {
        "colab": {
          "base_uri": "https://localhost:8080/"
        },
        "id": "zdlZIyVXQuV6",
        "outputId": "9bd5d9c5-0c31-4712-be62-f59f7275f27f"
      },
      "outputs": [
        {
          "output_type": "execute_result",
          "data": {
            "text/plain": [
              "{'animal': 'dog', 'answer': 45}"
            ]
          },
          "metadata": {},
          "execution_count": 71
        }
      ],
      "source": [
        "#Show\n",
        "d"
      ]
    },
    {
      "cell_type": "markdown",
      "metadata": {
        "id": "wC9qKo8pQuV6"
      },
      "source": [
        "## Nesting with Dictionaries\n",
        "\n",
        "Let's understand how flexible Python is with nesting objects and calling methods on them. let's have a look at the dictionary nested inside a dictionary:"
      ]
    },
    {
      "cell_type": "code",
      "execution_count": null,
      "metadata": {
        "id": "-f848GezQuV7"
      },
      "outputs": [],
      "source": [
        "# Dictionary nested inside a dictionary nested in side a dictionary\n",
        "d = {'key1':{'nestedkey':{'subnestedkey':'value'}}}"
      ]
    },
    {
      "cell_type": "markdown",
      "metadata": {
        "id": "7iUtItRzQuV7"
      },
      "source": [
        "Thats the inception of dictionaries. Now, Let's see how we can grab that value:"
      ]
    },
    {
      "cell_type": "code",
      "execution_count": null,
      "metadata": {
        "colab": {
          "base_uri": "https://localhost:8080/",
          "height": 182
        },
        "id": "B2CN2YnBQuV8",
        "outputId": "eaba8338-e8c0-4913-8537-8a9e353c407d"
      },
      "outputs": [
        {
          "output_type": "error",
          "ename": "KeyError",
          "evalue": "ignored",
          "traceback": [
            "\u001b[0;31m---------------------------------------------------------------------------\u001b[0m",
            "\u001b[0;31mKeyError\u001b[0m                                  Traceback (most recent call last)",
            "\u001b[0;32m<ipython-input-83-0cd6498bddf1>\u001b[0m in \u001b[0;36m<module>\u001b[0;34m()\u001b[0m\n\u001b[1;32m      1\u001b[0m \u001b[0;31m# Keep calling the keys\u001b[0m\u001b[0;34m\u001b[0m\u001b[0;34m\u001b[0m\u001b[0;34m\u001b[0m\u001b[0m\n\u001b[0;32m----> 2\u001b[0;31m \u001b[0md\u001b[0m\u001b[0;34m[\u001b[0m\u001b[0;34m'key1'\u001b[0m\u001b[0;34m]\u001b[0m\u001b[0;34m[\u001b[0m\u001b[0;34m'nestkey'\u001b[0m\u001b[0;34m]\u001b[0m\u001b[0;34m[\u001b[0m\u001b[0;34m'subnestkey'\u001b[0m\u001b[0;34m]\u001b[0m\u001b[0;34m\u001b[0m\u001b[0;34m\u001b[0m\u001b[0m\n\u001b[0m",
            "\u001b[0;31mKeyError\u001b[0m: 'nestkey'"
          ]
        }
      ],
      "source": [
        "# Keep calling the keys\n",
        "d['key1']['nestkey']['subnestkey']"
      ]
    },
    {
      "cell_type": "markdown",
      "metadata": {
        "id": "hrjUEJq2QuV8"
      },
      "source": [
        "## A few Dictionary Methods\n",
        "\n",
        "There are a few methods we can call on a dictionary. Let's get a quick introduction to a few methods:"
      ]
    },
    {
      "cell_type": "code",
      "execution_count": null,
      "metadata": {
        "id": "wAcThcSpQuV9"
      },
      "outputs": [],
      "source": [
        "# Create a typical dictionary\n",
        "d = {'key1': 1,'key2':2,'key3':3}"
      ]
    },
    {
      "cell_type": "code",
      "execution_count": null,
      "metadata": {
        "colab": {
          "base_uri": "https://localhost:8080/"
        },
        "id": "mX001rgMQuV9",
        "outputId": "f0fa66de-6cbf-470a-b3aa-c1a4c3d982b9"
      },
      "outputs": [
        {
          "output_type": "execute_result",
          "data": {
            "text/plain": [
              "dict_keys(['key1', 'key2', 'key3'])"
            ]
          },
          "metadata": {},
          "execution_count": 85
        }
      ],
      "source": [
        "# Method to return a list of all keys \n",
        "d.keys()"
      ]
    },
    {
      "cell_type": "code",
      "execution_count": null,
      "metadata": {
        "colab": {
          "base_uri": "https://localhost:8080/"
        },
        "id": "vuJbnTlAQuV9",
        "outputId": "ef6ae524-993f-4f8b-bc3b-3c57d881443d"
      },
      "outputs": [
        {
          "output_type": "execute_result",
          "data": {
            "text/plain": [
              "dict_values([1, 2, 3])"
            ]
          },
          "metadata": {},
          "execution_count": 77
        }
      ],
      "source": [
        "# Method to grab all values\n",
        "d.values()"
      ]
    },
    {
      "cell_type": "code",
      "execution_count": null,
      "metadata": {
        "colab": {
          "base_uri": "https://localhost:8080/"
        },
        "id": "eSym3bUfQuV-",
        "outputId": "65f03322-5058-48a4-830a-553a471009e9"
      },
      "outputs": [
        {
          "output_type": "execute_result",
          "data": {
            "text/plain": [
              "dict_items([('key1', 1), ('key2', 2), ('key3', 3)])"
            ]
          },
          "metadata": {},
          "execution_count": 78
        }
      ],
      "source": [
        "# Method to return tuples of all items  (we'll learn about tuples soon)\n",
        "d.items()"
      ]
    },
    {
      "cell_type": "markdown",
      "metadata": {
        "id": "LUYWCe-IQuV-"
      },
      "source": [
        ""
      ]
    },
    {
      "cell_type": "markdown",
      "metadata": {
        "id": "P3yW03OVQuV_"
      },
      "source": [
        "## Dictionary Comprehensions\n",
        "\n",
        "Just like List Comprehensions, Dictionary Data Types also support their own version of comprehension for quick creation. It is not as commonly used as List Comprehensions, but the syntax is:"
      ]
    },
    {
      "cell_type": "code",
      "execution_count": null,
      "metadata": {
        "colab": {
          "base_uri": "https://localhost:8080/"
        },
        "id": "laugxhA-QuV_",
        "outputId": "0c207fb1-e81e-4cab-874f-e12397c1281e"
      },
      "outputs": [
        {
          "output_type": "stream",
          "name": "stdout",
          "text": [
            "[0, 1, 2, 3, 4, 5, 6, 7, 8]\n"
          ]
        }
      ],
      "source": [
        "print(list(range(9)))"
      ]
    },
    {
      "cell_type": "code",
      "execution_count": null,
      "metadata": {
        "colab": {
          "base_uri": "https://localhost:8080/"
        },
        "id": "nSBMQ_koQuWA",
        "outputId": "dc435c2d-c10c-4b82-d496-ebecd5556a68"
      },
      "outputs": [
        {
          "output_type": "execute_result",
          "data": {
            "text/plain": [
              "{0: 0, 1: 1, 2: 4, 3: 9, 4: 16, 5: 25, 6: 36, 7: 49, 8: 64}"
            ]
          },
          "metadata": {},
          "execution_count": 89
        }
      ],
      "source": [
        "{x:x**2 for x in range(9)}"
      ]
    },
    {
      "cell_type": "markdown",
      "metadata": {
        "id": "cwqd_RzhQuWB"
      },
      "source": [
        "One of the reasons is the difficulty in structuring the key names that are not based on the values."
      ]
    },
    {
      "cell_type": "markdown",
      "metadata": {
        "id": "ZrdxsCQjQuWB"
      },
      "source": [
        "# Functions\n",
        "\n",
        "## Introduction to Functions\n",
        "\n",
        "What is a function in Python and how to create a function? \n",
        "\n",
        "Functions will be one of our main building blocks when we construct larger and larger amount of code to solve problems.\n",
        "\n",
        "**So what is a function?**\n",
        "\n",
        "A function groups a set of statements together to run the statements more than once. It allows us to specify parameters that can serve as inputs to the functions.\n",
        "\n",
        "Functions allow us to reuse the code instead of writing the code again and again. If you recall strings and lists, remember that len() function is used to find the length of a string. Since checking the length of a sequence is a common task, you would want to write a function that can do this repeatedly at command.\n",
        "\n",
        "Function is one of the most basic levels of reusing code in Python, and it will also allow us to start thinking of program design."
      ]
    },
    {
      "cell_type": "markdown",
      "metadata": {
        "id": "YArN9MHUQuWC"
      },
      "source": [
        "## def Statements\n",
        "\n",
        "Now, let us learn how to build a function and what is the syntax in Python.\n",
        "\n",
        "The syntax for def statements will be in the following form:"
      ]
    },
    {
      "cell_type": "code",
      "execution_count": null,
      "metadata": {
        "id": "_ewW2wjIQuWC"
      },
      "outputs": [],
      "source": [
        "def name_of_function(arg1,arg2):\n",
        "\n",
        "\n",
        "    # Do stuff here\n",
        "    #return desired result"
      ]
    },
    {
      "cell_type": "markdown",
      "metadata": {
        "id": "41eySoraQuWD"
      },
      "source": [
        "We begin with def then a space followed by the name of the function. Try to keep names relevant and simple as possible, for example, len() is a good name for a length() function. Also be careful with names, you wouldn't want to call a function the same name as a [built-in function in Python](https://docs.python.org/2/library/functions.html) (such as len).\n",
        "\n",
        "Next, comes the number of arguments separated by a comma within a pair of parenthesis which acts as input to the defined function,  reference them and the function definition with a colon.  \n",
        "\n",
        "Here comes the important step to indent to begin the code inside the defined functions properly. Also remember, Python makes use of *whitespace* to organize code and lot of other programming languages do not do this.\n",
        "\n",
        "Next, you'll see the doc-string where you write the basic description of the function. Using iPython and iPython Notebooks, you'll be able to read these doc-strings by pressing Shift+Tab after a function name. It is not mandatory to include docstrings with simple functions, but it is a good practice to put them as this will help the programmers to easily understand the code you write.\n",
        "\n",
        "After all this, you can begin writing the code you wish to execute.\n",
        "\n",
        "The best way to learn functions is by going through examples. So let's try to analyze and understand examples that relate back to the various objects and data structures we learned."
      ]
    },
    {
      "cell_type": "markdown",
      "metadata": {
        "id": "QHSb-M6KQuWE"
      },
      "source": [
        "### Example 1: A simple print 'hello' function"
      ]
    },
    {
      "cell_type": "code",
      "execution_count": null,
      "metadata": {
        "id": "_bKRfdcDQuWE"
      },
      "outputs": [],
      "source": [
        "def say_hello():\n",
        "  print('hello')"
      ]
    },
    {
      "cell_type": "markdown",
      "metadata": {
        "id": "sW5wht9gQuWF"
      },
      "source": [
        "Call the function"
      ]
    },
    {
      "cell_type": "code",
      "execution_count": null,
      "metadata": {
        "colab": {
          "base_uri": "https://localhost:8080/"
        },
        "id": "RaDKtiNTQuWF",
        "outputId": "46253607-d8a9-4b0c-e5b0-f969e0593e88"
      },
      "outputs": [
        {
          "output_type": "stream",
          "name": "stdout",
          "text": [
            "hello\n"
          ]
        }
      ],
      "source": [
        "say_hello()"
      ]
    },
    {
      "cell_type": "markdown",
      "metadata": {
        "id": "Jt536TgZQuWG"
      },
      "source": [
        "### Example 2: A simple greeting function\n",
        "Let's write a function that greets people with their name."
      ]
    },
    {
      "cell_type": "code",
      "execution_count": null,
      "metadata": {
        "id": "mH6bkaQNQuWJ"
      },
      "outputs": [],
      "source": [
        "def greeting(name):\n",
        "  print('hello %s' % name)"
      ]
    },
    {
      "cell_type": "code",
      "execution_count": null,
      "metadata": {
        "colab": {
          "base_uri": "https://localhost:8080/"
        },
        "id": "fup9vOuUQuWJ",
        "outputId": "44b58c92-635a-4035-c656-5c278249cfe3"
      },
      "outputs": [
        {
          "output_type": "stream",
          "name": "stdout",
          "text": [
            "hello AiROBOSOFT\n"
          ]
        }
      ],
      "source": [
        "greeting('AiROBOSOFT')"
      ]
    },
    {
      "cell_type": "markdown",
      "metadata": {
        "id": "kbrvSUZQQuWJ"
      },
      "source": [
        "## Using return\n",
        "Let's see some examples that use a return statement. Return allows a function to \"return\" a result that can then be stored as a variable, or used in whatever manner a user wants.\n",
        "\n",
        "### Example 3: Addition function"
      ]
    },
    {
      "cell_type": "code",
      "execution_count": null,
      "metadata": {
        "id": "-8-mzmiOQuWK"
      },
      "outputs": [],
      "source": [
        "def addition(num1,num2):\n",
        "  return num1+num2\n",
        " "
      ]
    },
    {
      "cell_type": "code",
      "execution_count": null,
      "metadata": {
        "colab": {
          "base_uri": "https://localhost:8080/"
        },
        "id": "o8kB9c7gQuWK",
        "outputId": "2df2724b-8206-408c-d268-f1f90ead0a45"
      },
      "outputs": [
        {
          "output_type": "execute_result",
          "data": {
            "text/plain": [
              "11"
            ]
          },
          "metadata": {},
          "execution_count": 100
        }
      ],
      "source": [
        "addition(5,6)"
      ]
    },
    {
      "cell_type": "code",
      "execution_count": null,
      "metadata": {
        "id": "JyYWroDoQuWK"
      },
      "outputs": [],
      "source": [
        "# Can also save as variable due to return\n",
        "result = addition(6,9)"
      ]
    },
    {
      "cell_type": "code",
      "execution_count": null,
      "metadata": {
        "colab": {
          "base_uri": "https://localhost:8080/"
        },
        "id": "W9I0_7O2QuWL",
        "outputId": "fdb53d31-6a98-46a8-d721-f8443b16462c"
      },
      "outputs": [
        {
          "output_type": "execute_result",
          "data": {
            "text/plain": [
              "15"
            ]
          },
          "metadata": {},
          "execution_count": 104
        }
      ],
      "source": [
        "result"
      ]
    },
    {
      "cell_type": "markdown",
      "metadata": {
        "id": "xIkLMT3mQuWL"
      },
      "source": [
        "What happens if we input two strings?"
      ]
    },
    {
      "cell_type": "code",
      "execution_count": null,
      "metadata": {
        "colab": {
          "base_uri": "https://localhost:8080/"
        },
        "id": "cuavIn4PQuWL",
        "outputId": "87d4f41a-90cd-4469-f6f5-eda7f70fe0b0"
      },
      "outputs": [
        {
          "output_type": "stream",
          "name": "stdout",
          "text": [
            "one\ttwo\n"
          ]
        }
      ],
      "source": [
        "print(addition('one\\t','two'))"
      ]
    },
    {
      "cell_type": "markdown",
      "metadata": {
        "id": "vGa8Sh_SQuWL"
      },
      "source": [
        "In Python we don't declare variable types, this function could be used to add numbers or sequences together! Going forward, We'll learn about adding in checks to make sure a user puts in the correct arguments into a function.\n",
        "\n",
        "Let's also start using *break*,*continue*, and *pass* statements in our code. We introduced these during the while lecture."
      ]
    },
    {
      "cell_type": "markdown",
      "metadata": {
        "collapsed": true,
        "id": "1nXxTQICQuWM"
      },
      "source": [
        "Now, let's see a complete example of creating a function to check if a number is prime (a common interview exercise).\n",
        "\n",
        "We know a number is said to be prime if that number is only divisible by 1 and itself. Let's write our first version of the function to check all the numbers from 1 to N and perform modulo checks."
      ]
    },
    {
      "cell_type": "code",
      "execution_count": null,
      "metadata": {
        "id": "ZChshdh4QuWM"
      },
      "outputs": [],
      "source": [
        "def prime_check(num):\n",
        "  for n in range(2,num):\n",
        "    if num % n == 0:\n",
        "      print('not prime')\n",
        "      break\n",
        "    else:\n",
        "      print('prime')\n",
        "    "
      ]
    },
    {
      "cell_type": "code",
      "execution_count": null,
      "metadata": {
        "colab": {
          "base_uri": "https://localhost:8080/"
        },
        "id": "3Uvr8frhQuWN",
        "outputId": "b69b56aa-574a-4c3d-8933-ce60f69f595e"
      },
      "outputs": [
        {
          "output_type": "stream",
          "name": "stdout",
          "text": [
            "not prime\n"
          ]
        }
      ],
      "source": [
        "prime_check(8)"
      ]
    },
    {
      "cell_type": "markdown",
      "metadata": {
        "id": "T-V1VaQ4QuWN"
      },
      "source": [
        "Note that how we break the code after the print statement! We can actually improve this by only checking to the square root of the target number, also we can disregard all even numbers after checking for 2. We'll also switch to returning a boolean value to get an example of using return statements:"
      ]
    },
    {
      "cell_type": "code",
      "execution_count": null,
      "metadata": {
        "id": "BITiZx3yQuWN"
      },
      "outputs": [],
      "source": [
        "import math \n",
        "def prime_check(num):\n",
        "  if num ==0 and num >2:\n",
        "    return False\n",
        "  for i in range (3,int(math.sqrt(num))+1,2):\n",
        "    if num % i ==0 :\n",
        "      return False\n",
        "  return True"
      ]
    },
    {
      "cell_type": "code",
      "execution_count": null,
      "metadata": {
        "colab": {
          "base_uri": "https://localhost:8080/"
        },
        "id": "6HYs2TFEQuWN",
        "outputId": "d4586774-0100-46ff-943b-283ff1d638c5"
      },
      "outputs": [
        {
          "output_type": "stream",
          "name": "stdout",
          "text": [
            "[3, 5]\n"
          ]
        }
      ],
      "source": [
        "print(list(range(3,6,2)))"
      ]
    },
    {
      "cell_type": "code",
      "execution_count": null,
      "metadata": {
        "colab": {
          "base_uri": "https://localhost:8080/"
        },
        "id": "ifcAMcyCQuWO",
        "outputId": "79a3a0a8-b722-43a3-e806-c058aeebcd11"
      },
      "outputs": [
        {
          "output_type": "execute_result",
          "data": {
            "text/plain": [
              "True"
            ]
          },
          "metadata": {},
          "execution_count": 132
        }
      ],
      "source": [
        "prime_check(11)"
      ]
    },
    {
      "cell_type": "markdown",
      "metadata": {
        "id": "yKwITQ1HQuWO"
      },
      "source": [
        "# Iterators and Generators"
      ]
    },
    {
      "cell_type": "markdown",
      "metadata": {
        "id": "N-LdoDCPQuWO"
      },
      "source": [
        "In this section, you will be learning the differences between iterations and generation in Python and also how to construct our own generators with the \"yield\" statement. Generators allow us to generate as we go along instead of storing everything in the memory.\n",
        "\n",
        "We have learned, how to create functions with \"def\" and the \"return\" statement. In Python, Generator function allow us to write a function that can send back a value and then later resume to pick up where it was left. It also allows us to generate a sequence of values over time. The main difference in syntax will be the use of a **yield** statement.\n",
        "\n",
        "In most aspects, a generator function will appear very similar to a normal function. The main difference is when a generator function is called and compiled they become an object that supports an iteration protocol. That means when they are called they don't actually return a value and then exit, the generator functions will automatically suspend and resume their execution and state around the last point of value generation. \n",
        "\n",
        "The main advantage here is \"state suspension\" which means, instead of computing an entire series of values upfront and the generator functions can be suspended. To understand this concept better let's go ahead and learn how to create some generator functions."
      ]
    },
    {
      "cell_type": "code",
      "execution_count": null,
      "metadata": {
        "id": "6hIff92xQuWO"
      },
      "outputs": [],
      "source": [
        "# Generator function for the cube of numbers (power of 3)\n",
        "def gencubes(n):\n",
        "  for num in range(n):\n",
        "    yield num**3"
      ]
    },
    {
      "cell_type": "code",
      "execution_count": null,
      "metadata": {
        "scrolled": true,
        "colab": {
          "base_uri": "https://localhost:8080/"
        },
        "id": "K76c726nQuWP",
        "outputId": "15059033-fb2a-4d25-a497-8350bd78e3d7"
      },
      "outputs": [
        {
          "output_type": "stream",
          "name": "stdout",
          "text": [
            "0\n",
            "1\n",
            "8\n",
            "27\n",
            "64\n",
            "125\n",
            "216\n",
            "343\n",
            "512\n"
          ]
        }
      ],
      "source": [
        "for x in gencubes(9):\n",
        "  print(x)"
      ]
    },
    {
      "cell_type": "markdown",
      "metadata": {
        "id": "nvGNySexQuWP"
      },
      "source": [
        "Great! since we have a generator function we don't have to keep track of every single cube we created.\n",
        "\n",
        "Generators are the best for calculating large sets of results (particularly in calculations that involve loops themselves) when we don't want to allocate memory for all of the results at the same time. \n",
        "\n",
        "Let's create another sample generator which calculates [fibonacci](https://en.wikipedia.org/wiki/Fibonacci_number) numbers:"
      ]
    },
    {
      "cell_type": "code",
      "execution_count": null,
      "metadata": {
        "id": "yjf7L8HAQuWP"
      },
      "outputs": [],
      "source": [
        "def genfibonacci(n):\n",
        "  a = 1\n",
        "  b= 1\n",
        "  for i in range(n):\n",
        "    yield a\n",
        "    a,b = b,a+1"
      ]
    },
    {
      "cell_type": "code",
      "execution_count": null,
      "metadata": {
        "colab": {
          "base_uri": "https://localhost:8080/"
        },
        "id": "BFKFvZoOQuWP",
        "outputId": "2f364e94-136c-4fab-dfb8-b2aabd7678ea"
      },
      "outputs": [
        {
          "output_type": "stream",
          "name": "stdout",
          "text": [
            "1\n",
            "1\n",
            "2\n",
            "2\n",
            "3\n"
          ]
        }
      ],
      "source": [
        "for x in genfibonacci(5):\n",
        "  print(x)"
      ]
    },
    {
      "cell_type": "markdown",
      "metadata": {
        "id": "y91dQ8tuQuWQ"
      },
      "source": [
        "What if this was a normal function, what would it look like?"
      ]
    },
    {
      "cell_type": "code",
      "execution_count": null,
      "metadata": {
        "id": "KZT8z0egQuWQ"
      },
      "outputs": [],
      "source": [
        "def fb(n):\n",
        "  a = 1\n",
        "  b = 1\n",
        "  output = []\n",
        "  for i in range(n):\n",
        "    output.append(a)\n",
        "    a,b = b,a+b\n",
        "  return output"
      ]
    },
    {
      "cell_type": "code",
      "execution_count": null,
      "metadata": {
        "colab": {
          "base_uri": "https://localhost:8080/"
        },
        "id": "j62i1GfHQuWQ",
        "outputId": "23533046-c4a0-4355-ad6a-a45d93865a21"
      },
      "outputs": [
        {
          "output_type": "execute_result",
          "data": {
            "text/plain": [
              "[1, 1, 2, 3, 5, 8, 13, 21, 34, 55]"
            ]
          },
          "metadata": {},
          "execution_count": 152
        }
      ],
      "source": [
        "fb(10)"
      ]
    },
    {
      "cell_type": "markdown",
      "metadata": {
        "id": "1EzriYI7QuWQ"
      },
      "source": [
        "Note, if we call some huge value of \"n\", the second function will have to keep track of every single result. In our case, we only care about the previous result to generate the next one.\n",
        "\n",
        "\n",
        "## next() and iter() built-in functions\n",
        "\n",
        "A key to fully understand generators is the next() and the iter() function.\n",
        "\n",
        "The next function allows us to access the next element in a sequence. Let's check how it works."
      ]
    },
    {
      "cell_type": "code",
      "execution_count": null,
      "metadata": {
        "colab": {
          "base_uri": "https://localhost:8080/"
        },
        "id": "hoxTJm6yQuWQ",
        "outputId": "89b87fd8-d229-4c60-ec77-62ec4f8ed3b0"
      },
      "outputs": [
        {
          "output_type": "stream",
          "name": "stdout",
          "text": [
            "[0, 1, 2]\n"
          ]
        }
      ],
      "source": [
        "print(list(range(3)))"
      ]
    },
    {
      "cell_type": "code",
      "execution_count": null,
      "metadata": {
        "id": "bZJFNtmJQuWR"
      },
      "outputs": [],
      "source": [
        "def simple_gen():\n",
        "  for x in range(3):\n",
        "    yield x"
      ]
    },
    {
      "cell_type": "code",
      "execution_count": null,
      "metadata": {
        "id": "tsYk-uLAQuWR"
      },
      "outputs": [],
      "source": [
        "# Assign simple_gen \n",
        "g = simple_gen()"
      ]
    },
    {
      "cell_type": "code",
      "execution_count": null,
      "metadata": {
        "colab": {
          "base_uri": "https://localhost:8080/"
        },
        "id": "A0LxL2a-QuWR",
        "outputId": "a592fa3d-c9e4-495b-861c-786211d47c57"
      },
      "outputs": [
        {
          "output_type": "stream",
          "name": "stdout",
          "text": [
            "0\n"
          ]
        }
      ],
      "source": [
        "print(next(g))"
      ]
    },
    {
      "cell_type": "code",
      "execution_count": null,
      "metadata": {
        "colab": {
          "base_uri": "https://localhost:8080/"
        },
        "id": "RSTHeHtRQuWR",
        "outputId": "955133e0-e50e-4f00-ac64-fcc533e2c6de"
      },
      "outputs": [
        {
          "output_type": "stream",
          "name": "stdout",
          "text": [
            "1\n"
          ]
        }
      ],
      "source": [
        "print(next(g))"
      ]
    },
    {
      "cell_type": "code",
      "execution_count": null,
      "metadata": {
        "colab": {
          "base_uri": "https://localhost:8080/"
        },
        "id": "aXsqlJ1iQuWS",
        "outputId": "df206670-9a92-45d8-b40b-bbbf27417d7d"
      },
      "outputs": [
        {
          "output_type": "stream",
          "name": "stdout",
          "text": [
            "2\n"
          ]
        }
      ],
      "source": [
        "print(next(g))"
      ]
    },
    {
      "cell_type": "code",
      "execution_count": null,
      "metadata": {
        "colab": {
          "base_uri": "https://localhost:8080/",
          "height": 165
        },
        "id": "UNMFqxTpQuWS",
        "outputId": "50635cb7-a804-4c2e-c1e8-d1dba9f2f6ad"
      },
      "outputs": [
        {
          "output_type": "error",
          "ename": "StopIteration",
          "evalue": "ignored",
          "traceback": [
            "\u001b[0;31m---------------------------------------------------------------------------\u001b[0m",
            "\u001b[0;31mStopIteration\u001b[0m                             Traceback (most recent call last)",
            "\u001b[0;32m<ipython-input-159-1dfb29d6357e>\u001b[0m in \u001b[0;36m<module>\u001b[0;34m()\u001b[0m\n\u001b[0;32m----> 1\u001b[0;31m \u001b[0mprint\u001b[0m\u001b[0;34m(\u001b[0m\u001b[0mnext\u001b[0m\u001b[0;34m(\u001b[0m\u001b[0mg\u001b[0m\u001b[0;34m)\u001b[0m\u001b[0;34m)\u001b[0m\u001b[0;34m\u001b[0m\u001b[0;34m\u001b[0m\u001b[0m\n\u001b[0m",
            "\u001b[0;31mStopIteration\u001b[0m: "
          ]
        }
      ],
      "source": [
        "print(next(g))"
      ]
    },
    {
      "cell_type": "markdown",
      "metadata": {
        "id": "dkjM3ElAQuWS"
      },
      "source": [
        "After yielding all the values next() caused a StopIteration error. What this error informs us that all the values have been yielded. \n",
        "\n",
        "You might be wondering that why don’t we get this error while using a for loop? The \"for loop\" automatically catches this error and stops calling next. \n",
        "\n",
        "Let's go ahead and check out how to use iter(). You remember that strings are iterable:"
      ]
    },
    {
      "cell_type": "code",
      "execution_count": null,
      "metadata": {
        "colab": {
          "base_uri": "https://localhost:8080/"
        },
        "id": "De3gakoGQuWS",
        "outputId": "9fb7951c-86cd-44ec-e0a3-374dce794de7"
      },
      "outputs": [
        {
          "output_type": "stream",
          "name": "stdout",
          "text": [
            "H\n",
            "E\n",
            "L\n",
            "L\n",
            "O\n"
          ]
        }
      ],
      "source": [
        "s = 'HELLO'\n",
        "for i in s:\n",
        "  print(i)"
      ]
    },
    {
      "cell_type": "markdown",
      "metadata": {
        "id": "6SfWO_D3QuWT"
      },
      "source": [
        "But that doesn't mean the string itself is an *iterator*! We can check this with the next() function:"
      ]
    },
    {
      "cell_type": "code",
      "execution_count": null,
      "metadata": {
        "colab": {
          "base_uri": "https://localhost:8080/",
          "height": 165
        },
        "id": "olo-YKu-QuWT",
        "outputId": "23473ac4-1a1f-41d5-9667-f4079f37d8a3"
      },
      "outputs": [
        {
          "output_type": "error",
          "ename": "TypeError",
          "evalue": "ignored",
          "traceback": [
            "\u001b[0;31m---------------------------------------------------------------------------\u001b[0m",
            "\u001b[0;31mTypeError\u001b[0m                                 Traceback (most recent call last)",
            "\u001b[0;32m<ipython-input-161-61c30b5fe1d5>\u001b[0m in \u001b[0;36m<module>\u001b[0;34m()\u001b[0m\n\u001b[0;32m----> 1\u001b[0;31m \u001b[0mnext\u001b[0m\u001b[0;34m(\u001b[0m\u001b[0ms\u001b[0m\u001b[0;34m)\u001b[0m\u001b[0;34m\u001b[0m\u001b[0;34m\u001b[0m\u001b[0m\n\u001b[0m",
            "\u001b[0;31mTypeError\u001b[0m: 'str' object is not an iterator"
          ]
        }
      ],
      "source": [
        "next(s)"
      ]
    },
    {
      "cell_type": "markdown",
      "metadata": {
        "id": "o33meLkdQuWT"
      },
      "source": [
        "This means that a string object supports iteration, but we can not directly iterate over it as we could with a generator function. The iter() function allows us to do just that!"
      ]
    },
    {
      "cell_type": "code",
      "execution_count": null,
      "metadata": {
        "id": "wUOL7ZLqQuWU"
      },
      "outputs": [],
      "source": [
        "s_iter = iter(s)"
      ]
    },
    {
      "cell_type": "code",
      "execution_count": null,
      "metadata": {
        "colab": {
          "base_uri": "https://localhost:8080/",
          "height": 38
        },
        "id": "1J_paCRQQuWU",
        "outputId": "2e31fc93-7a83-4eff-a033-9037955e785d"
      },
      "outputs": [
        {
          "output_type": "execute_result",
          "data": {
            "application/vnd.google.colaboratory.intrinsic+json": {
              "type": "string"
            },
            "text/plain": [
              "'H'"
            ]
          },
          "metadata": {},
          "execution_count": 164
        }
      ],
      "source": [
        "next(s_iter)"
      ]
    },
    {
      "cell_type": "code",
      "execution_count": null,
      "metadata": {
        "colab": {
          "base_uri": "https://localhost:8080/",
          "height": 38
        },
        "id": "na2cx4WEQuWU",
        "outputId": "d8898f7a-e733-4e36-e519-ad8b974289a4"
      },
      "outputs": [
        {
          "output_type": "execute_result",
          "data": {
            "application/vnd.google.colaboratory.intrinsic+json": {
              "type": "string"
            },
            "text/plain": [
              "'E'"
            ]
          },
          "metadata": {},
          "execution_count": 165
        }
      ],
      "source": [
        "next(s_iter)"
      ]
    },
    {
      "cell_type": "markdown",
      "metadata": {
        "id": "_yYKaLveQuWU"
      },
      "source": [
        "# map()\n",
        "\n",
        "The map() is a function that takes in two arguments: \n",
        "1. A function \n",
        "2. A sequence iterable. \n",
        "\n",
        "In the form: map(function, sequence)\n",
        "    \n",
        "The first argument is the name of a function and the second a sequence (e.g. a list). map() applies the function to all the elements of the sequence. It returns a new list with the elements changed by the function.\n",
        "\n",
        "When we went over list comprehension we created a small expression to convert Fahrenheit to Celsius. Let's do the same here but use map. \n",
        "\n",
        "We'll start with two functions:"
      ]
    },
    {
      "cell_type": "code",
      "execution_count": null,
      "metadata": {
        "id": "RhHi0qzfQuWU"
      },
      "outputs": [],
      "source": [
        "def fh(T):\n",
        "  return ((float(9)/5)*T+32)\n",
        "def cel(T):\n",
        "  return ((float(5)/9)*(T-32))\n",
        "temp =[0,22.5 ,90,100]"
      ]
    },
    {
      "cell_type": "markdown",
      "metadata": {
        "id": "i02JH-zBQuWV"
      },
      "source": [
        "Now let's see map() in action:"
      ]
    },
    {
      "cell_type": "code",
      "execution_count": null,
      "metadata": {
        "colab": {
          "base_uri": "https://localhost:8080/"
        },
        "id": "dEGhFDLWQuWV",
        "outputId": "126f08b0-b6f3-4a43-e6f4-90aefeb1d697"
      },
      "outputs": [
        {
          "output_type": "execute_result",
          "data": {
            "text/plain": [
              "[32.0, 72.5, 194.0, 212.0]"
            ]
          },
          "metadata": {},
          "execution_count": 172
        }
      ],
      "source": [
        "\n",
        "#Show\n",
        "f_temp = list(map(fh , temp))\n",
        "f_temp"
      ]
    },
    {
      "cell_type": "code",
      "execution_count": null,
      "metadata": {
        "colab": {
          "base_uri": "https://localhost:8080/"
        },
        "id": "YvK5X-qpQuWW",
        "outputId": "fa731fe8-272e-4374-e52d-ba2c7b057ae5"
      },
      "outputs": [
        {
          "output_type": "execute_result",
          "data": {
            "text/plain": [
              "[0.0, 22.5, 90.0, 100.0]"
            ]
          },
          "metadata": {},
          "execution_count": 173
        }
      ],
      "source": [
        "# Convert back\n",
        "list(map(cel,f_temp))"
      ]
    },
    {
      "cell_type": "markdown",
      "metadata": {
        "id": "awUi-EbCQuWX"
      },
      "source": [
        "In the example above, we haven't used a lambda expression. By using lambda, it is not necessary to define and name fahrenheit() and celsius() functions."
      ]
    },
    {
      "cell_type": "code",
      "execution_count": null,
      "metadata": {
        "colab": {
          "base_uri": "https://localhost:8080/"
        },
        "id": "Wy7vPwvnQuWX",
        "outputId": "434af6bb-b5a4-41d1-c097-3f9eb07417d7"
      },
      "outputs": [
        {
          "output_type": "execute_result",
          "data": {
            "text/plain": [
              "[0.0, 22.5, 90.0, 100.0]"
            ]
          },
          "metadata": {},
          "execution_count": 175
        }
      ],
      "source": [
        "list(map(lambda y: (5.0/9)* (y-32) , f_temp))"
      ]
    },
    {
      "cell_type": "markdown",
      "metadata": {
        "id": "5gMrupupQuWX"
      },
      "source": [
        "Map is more commonly used with lambda expressions since the entire purpose of a map() is to save effort on creating manual for loops."
      ]
    },
    {
      "cell_type": "markdown",
      "metadata": {
        "id": "uhxLziy7QuWY"
      },
      "source": [
        "map() can be applied to more than one iterable. The iterables must have the same length.\n",
        "\n",
        "For instance, if we are working with two lists-map() will apply its lambda function to the elements of the argument lists, i.e. it first applies to the elements with the 0th index, then to the elements with the 1st index until the nth index is reached.\n",
        "\n",
        "For example, let's map a lambda expression to two lists:"
      ]
    },
    {
      "cell_type": "code",
      "execution_count": null,
      "metadata": {
        "colab": {
          "base_uri": "https://localhost:8080/"
        },
        "id": "aqYyOW9zQuWY",
        "outputId": "2320e3b7-2c26-402b-82bb-401731fd4ec7"
      },
      "outputs": [
        {
          "output_type": "execute_result",
          "data": {
            "text/plain": [
              "[5, 7, 9]"
            ]
          },
          "metadata": {},
          "execution_count": 179
        }
      ],
      "source": [
        "a = [1,2,3]\n",
        "b = [4,5,6]\n",
        "c = [7,8,9]\n",
        "list(map(lambda x,y:x+y,a,b))"
      ]
    },
    {
      "cell_type": "code",
      "execution_count": null,
      "metadata": {
        "colab": {
          "base_uri": "https://localhost:8080/"
        },
        "id": "gAttgfxcQuWY",
        "outputId": "d3cf0f79-9ffe-4056-fff2-f42f9a9ad787"
      },
      "outputs": [
        {
          "output_type": "execute_result",
          "data": {
            "text/plain": [
              "[12, 15, 18]"
            ]
          },
          "metadata": {},
          "execution_count": 180
        }
      ],
      "source": [
        "# Now all three lists\n",
        "list(map(lambda x,y,z:x+y+z,a,b,c))"
      ]
    },
    {
      "cell_type": "markdown",
      "metadata": {
        "id": "QT0VntHwQuWZ"
      },
      "source": [
        "In the above example, the parameter 'x' gets its values from the list 'a', while 'y' gets its values from 'b' and 'z' from list 'c'. Go ahead and create your own example to make sure that you completely understand mapping more than one iterable."
      ]
    },
    {
      "cell_type": "markdown",
      "metadata": {
        "id": "kOgdsqH7QuWZ"
      },
      "source": [
        "# reduce()\n",
        "\n",
        "The function reduce(function, sequence) continually applies the function to the sequence. It then returns a single value. \n",
        "\n",
        "If seq = [s1, s2, s3, ... , sn], calling reduce(function, sequence) works like this:\n",
        "\n",
        "* At first the first two elements of sequence will be applied to function, i.e. func(s1,s2) \n",
        "* The list on which reduce() works looks like this: [ function(s1, s2), s3, ... , sn ]\n",
        "* In the next step the function will be applied on the previous result and the third element of the list, i.e. function(function(s1, s2),s3)\n",
        "* The list looks like: [ function(function(s1, s2),s3), ... , sn ]\n",
        "* It continues like this until just one element is left and return this element as the result of reduce()\n",
        "\n",
        "Let's see an example:"
      ]
    },
    {
      "cell_type": "code",
      "execution_count": 14,
      "metadata": {
        "colab": {
          "base_uri": "https://localhost:8080/"
        },
        "id": "gDH3huGvQuWZ",
        "outputId": "8b4d21f1-2472-43b1-b59a-37733a8bd976"
      },
      "outputs": [
        {
          "output_type": "execute_result",
          "data": {
            "text/plain": [
              "113"
            ]
          },
          "metadata": {},
          "execution_count": 14
        }
      ],
      "source": [
        "from functools import reduce\n",
        "lst = [47,11,42,13]\n",
        "reduce(lambda x,y:x+y,lst)"
      ]
    },
    {
      "cell_type": "markdown",
      "metadata": {
        "id": "2gJtQNU1QuWa"
      },
      "source": [
        "Let's look at a diagram to get a better understanding of what is going on here:"
      ]
    },
    {
      "cell_type": "code",
      "execution_count": 3,
      "metadata": {
        "id": "xgNqQfKMQuWa",
        "colab": {
          "base_uri": "https://localhost:8080/"
        },
        "outputId": "cc9eac45-88ab-4164-c617-f8c611bf67e9"
      },
      "outputs": [
        {
          "output_type": "execute_result",
          "data": {
            "text/plain": [
              "<IPython.core.display.Image object>"
            ]
          },
          "metadata": {},
          "execution_count": 3
        }
      ],
      "source": [
        "from IPython.display import Image\n",
        "Image('https://www.python-course.eu/images/reduce_diagram.png')\n"
      ]
    },
    {
      "cell_type": "markdown",
      "metadata": {
        "id": "P7o14BSyQuWa"
      },
      "source": [
        "Note how we keep reducing the sequence until a single final value is obtained. Let's see another example:"
      ]
    },
    {
      "cell_type": "code",
      "execution_count": 5,
      "metadata": {
        "id": "19gNzYxOQuWa"
      },
      "outputs": [],
      "source": [
        "#Find the maximum of a sequence (This already exists as max())\n",
        "max_find = lambda a,b: a if (a > b) else b"
      ]
    },
    {
      "cell_type": "code",
      "execution_count": 9,
      "metadata": {
        "id": "A6IYVsYiQuWb",
        "colab": {
          "base_uri": "https://localhost:8080/",
          "height": 200
        },
        "outputId": "17c2be90-25f5-4df9-f1dc-106921b17a04"
      },
      "outputs": [
        {
          "output_type": "error",
          "ename": "NameError",
          "evalue": "ignored",
          "traceback": [
            "\u001b[0;31m---------------------------------------------------------------------------\u001b[0m",
            "\u001b[0;31mNameError\u001b[0m                                 Traceback (most recent call last)",
            "\u001b[0;32m<ipython-input-9-139db9e7e72a>\u001b[0m in \u001b[0;36m<module>\u001b[0;34m()\u001b[0m\n\u001b[1;32m      1\u001b[0m \u001b[0;31m#Find max\u001b[0m\u001b[0;34m\u001b[0m\u001b[0;34m\u001b[0m\u001b[0;34m\u001b[0m\u001b[0m\n\u001b[0;32m----> 2\u001b[0;31m \u001b[0mprint\u001b[0m\u001b[0;34m(\u001b[0m\u001b[0mlst\u001b[0m\u001b[0;34m)\u001b[0m\u001b[0;34m\u001b[0m\u001b[0;34m\u001b[0m\u001b[0m\n\u001b[0m\u001b[1;32m      3\u001b[0m \u001b[0mreduce\u001b[0m\u001b[0;34m(\u001b[0m\u001b[0;32mlambda\u001b[0m \u001b[0ma\u001b[0m\u001b[0;34m,\u001b[0m\u001b[0mb\u001b[0m\u001b[0;34m:\u001b[0m \u001b[0ma\u001b[0m \u001b[0;32mif\u001b[0m \u001b[0;34m(\u001b[0m\u001b[0ma\u001b[0m \u001b[0;34m>\u001b[0m \u001b[0mb\u001b[0m\u001b[0;34m)\u001b[0m \u001b[0;32melse\u001b[0m \u001b[0mb\u001b[0m\u001b[0;34m,\u001b[0m\u001b[0mlst\u001b[0m\u001b[0;34m)\u001b[0m\u001b[0;34m\u001b[0m\u001b[0;34m\u001b[0m\u001b[0m\n",
            "\u001b[0;31mNameError\u001b[0m: name 'lst' is not defined"
          ]
        }
      ],
      "source": [
        "#Find max\n",
        "print(lst)\n",
        "reduce(lambda a,b: a if (a > b) else b,lst)"
      ]
    },
    {
      "cell_type": "markdown",
      "metadata": {
        "id": "xIAbioRDQuWb"
      },
      "source": [
        "# filter\n",
        "\n",
        "The function filter(function, list) offers a convenient way to filter out all the elements of an iterable, for which the function returns \"True\". \n",
        "\n",
        "The function filter(function(),l) needs a function as its first argument. The function needs to return a Boolean value (either True or False). This function will be applied to every element of the iterable. Only if the function returns \"True\" will the element of the iterable be included in the result.\n",
        "\n",
        "Let's see some examples:"
      ]
    },
    {
      "cell_type": "code",
      "execution_count": 10,
      "metadata": {
        "id": "7lorsIxPQuWb"
      },
      "outputs": [],
      "source": [
        "#First let's make a function\n",
        "def even_check(num):\n",
        "  if num%2==0:\n",
        "    return True"
      ]
    },
    {
      "cell_type": "markdown",
      "metadata": {
        "id": "El_CM70VQuWc"
      },
      "source": [
        "Now let's filter a list of numbers. Note that putting the function into filter without any parenthesis might feel strange, but keep in mind that functions are objects as well."
      ]
    },
    {
      "cell_type": "code",
      "execution_count": 12,
      "metadata": {
        "id": "1CQyYIcdQuWc",
        "colab": {
          "base_uri": "https://localhost:8080/"
        },
        "outputId": "50873bab-559b-4d72-f603-b33df9439865"
      },
      "outputs": [
        {
          "output_type": "stream",
          "name": "stdout",
          "text": [
            "[0, 1, 2, 3, 4, 5, 6, 7, 8, 9, 10, 11, 12, 13, 14, 15, 16, 17, 18, 19]\n"
          ]
        },
        {
          "output_type": "execute_result",
          "data": {
            "text/plain": [
              "[0, 2, 4, 6, 8, 10, 12, 14, 16, 18]"
            ]
          },
          "metadata": {},
          "execution_count": 12
        }
      ],
      "source": [
        "lst=range(20)\n",
        "print(list(lst))\n",
        "list(filter(even_check,lst))"
      ]
    },
    {
      "cell_type": "markdown",
      "metadata": {
        "id": "njVm9-JlQuWc"
      },
      "source": [
        "filter() is more commonly used with lambda functions, this because we usually use filter for a quick job where we don't want to write an entire function. Let's repeat the example above using a lambda expression:"
      ]
    },
    {
      "cell_type": "code",
      "execution_count": 13,
      "metadata": {
        "id": "a_d0fonwQuWc",
        "colab": {
          "base_uri": "https://localhost:8080/"
        },
        "outputId": "5e451a37-f4a5-499c-b753-2208851e1eb4"
      },
      "outputs": [
        {
          "output_type": "execute_result",
          "data": {
            "text/plain": [
              "[0, 2, 4, 6, 8, 10, 12, 14, 16, 18]"
            ]
          },
          "metadata": {},
          "execution_count": 13
        }
      ],
      "source": [
        "list(filter(lambda x: x%2==0,lst))"
      ]
    },
    {
      "cell_type": "code",
      "execution_count": null,
      "metadata": {
        "id": "CCtL4mz0QuWd"
      },
      "outputs": [],
      "source": [
        ""
      ]
    }
  ],
  "metadata": {
    "kernelspec": {
      "display_name": "Python 3",
      "language": "python",
      "name": "python3"
    },
    "language_info": {
      "codemirror_mode": {
        "name": "ipython",
        "version": 3
      },
      "file_extension": ".py",
      "mimetype": "text/x-python",
      "name": "python",
      "nbconvert_exporter": "python",
      "pygments_lexer": "ipython3",
      "version": "3.7.3"
    },
    "colab": {
      "name": "Python_Day_3.ipynb",
      "provenance": []
    }
  },
  "nbformat": 4,
  "nbformat_minor": 0
}